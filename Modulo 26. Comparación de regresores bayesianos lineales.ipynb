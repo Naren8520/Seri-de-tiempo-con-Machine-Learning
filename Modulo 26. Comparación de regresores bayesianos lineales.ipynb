{
 "cells": [
  {
   "attachments": {},
   "cell_type": "markdown",
   "metadata": {},
   "source": [
    "# Cursos de Series de tiempo con *Machine Learning*\n",
    "## Modulo 26. Regresores bayesianos\n",
    "                        Elaborado por: Naren Castellon"
   ]
  },
  {
   "attachments": {},
   "cell_type": "markdown",
   "metadata": {},
   "source": [
    "<center><img src=\"./imagen/bayesian%20regresion.png\" width=\"800\" height=\"500\"></center>"
   ]
  },
  {
   "attachments": {},
   "cell_type": "markdown",
   "metadata": {},
   "source": [
    "<a class=\"anchor\" id=\"0.1\"></a>\n",
    "# **Table of Contents** \n",
    "\n",
    "\n",
    "1.\t[Introduction](#1)\n",
    "2.  [Ventajas y desventajas de Regresión Bayesiana Ridge](#3)\n",
    "2.\t[Regresión Bayesiana Ridge](#2)\n",
    "4.\t[Automatic Relevance Determination - ARD](#4)\n",
    "5.\t[Loading libraries and data](#5)\n",
    "6.\t[Explore Data with the plot method](#6)\n",
    "7.\t[Split the data into training and testing](#7)\n",
    "8.\t[Implementation de modelo](#8)\n",
    "9.\t[Evaluate the model’s performance](#9)\n",
    "10.\t[Evaluate the model](#10)\n",
    "11. [References](#11)"
   ]
  },
  {
   "attachments": {},
   "cell_type": "markdown",
   "metadata": {},
   "source": [
    "# **1. Introduction** <a class=\"anchor\" id=\"1\"></a>\n",
    "\n",
    "[Table of Contents](#0)\n",
    "\n",
    "\n",
    "Regresión bayesiana\n",
    "\n",
    "Las técnicas de regresión bayesiana se pueden utilizar para incluir parámetros de regularización en el procedimiento de estimación: el parámetro de regularización no se establece en un sentido estricto, sino que se ajusta a los datos disponibles.\n",
    "\n",
    "Esto se puede hacer introduciendo valores a priori no informativos sobre los hiperparámetros del modelo. La regularización $\\ell_{2}$ utilizada en la regresión y clasificación de Ridge es equivalente a encontrar una estimación máxima a posteriori bajo un valor a priori gaussiano sobre los coeficientes $w$ con precisión $\\lambda^{-1}$. En lugar de establecer lambda manualmente, es posible tratarlo como una variable aleatoria que se estimará a partir de los datos.\n",
    "\n",
    "Para obtener un modelo completamente probabilístico, se supone que la salida $y$ tiene una distribución gaussiana alrededor de $X w$:\n",
    "\n",
    "$$p(y|X,w,\\alpha) = \\mathcal{N}(y|X w,\\alpha^{-1})$$\n",
    "\n",
    "donde $\\alpha$ se trata nuevamente como una variable aleatoria que debe estimarse a partir de los datos."
   ]
  },
  {
   "attachments": {},
   "cell_type": "markdown",
   "metadata": {},
   "source": [
    "## Las ventajas de la regresión bayesiana son:\n",
    "\n",
    "- Se adapta a los datos disponibles.\n",
    "- Se puede utilizar para incluir parámetros de regularización en el procedimiento de estimación.\n",
    "\n",
    "## Las desventajas de la regresión bayesiana incluyen:\n",
    "\n",
    "- La inferencia del modelo puede llevar mucho tiempo."
   ]
  },
  {
   "attachments": {},
   "cell_type": "markdown",
   "metadata": {},
   "source": [
    "# **2. Regresión Bayesiana Ridge** <a class=\"anchor\" id=\"2\"></a>\n",
    "\n",
    "`BayesianRidge` estima un modelo probabilístico del problema de regresión como se describió anteriormente. La distribución previa para el coeficiente $w$ se da mediante una gaussiana esférica:\n",
    "\n",
    "$$p(w|\\lambda) =\n",
    "\\mathcal{N}(w|0,\\lambda^{-1}\\mathbf{I}_{p}) $$\n",
    "\n",
    "Las distribuciones a priori sobre $\\alpha$ y $\\gamma$ se eligen para que sean distribuciones gamma, la distribución a priori conjugada para la precisión de la gaussiana. El modelo resultante se denomina regresión de Ridge bayesiana y es similar a la clásica de Ridge.\n",
    "\n",
    "Los parámetros $w, \\alpha$ y $\\gamma$ se estiman conjuntamente durante el ajuste del modelo, y los parámetros de regularización $\\alpha$ y $\\gamma$ se estiman maximizando la verosimilitud marginal logarítmica. La implementación de scikit-learn se basa en el algoritmo descrito en el Apéndice A de (Tipping, 2001), donde la actualización de los parámetros y se realiza como se sugiere en (MacKay, 1992). El valor inicial del procedimiento de maximización se puede establecer con los hiperparámetros `alpha_init` y `lambda_init`.\n",
    "\n",
    "Hay cuatro hiperparámetros más $\\alpha_1, \\alpha_2, \\lambda_1$ y $\\lambda_2$ de las distribuciones a priori gamma sobre $\\alpha$ y $\\lambda$. Estos suelen elegirse para que no sean informativos. Por defecto\n",
    "\n",
    "$$\\alpha_1 = \\alpha_2 =  \\lambda_1 = \\lambda_2 = 10^{-6}$$\n"
   ]
  },
  {
   "attachments": {},
   "cell_type": "markdown",
   "metadata": {},
   "source": [
    "# 3. Automatic Relevance Determination - ARD\n",
    "\n",
    "La determinación automática de relevancia (tal como se implementa en ARDRegression) es un tipo de modelo lineal que es muy similar a la regresión de cresta bayesiana, pero que conduce a coeficientes más dispersos $w$ .\n",
    "\n",
    "`ARDRegression` plantea una distribución previa diferente sobre $w$ : elimina la distribución gaussiana esférica por una distribución gaussiana elíptica centrada. Esto significa que cada coeficiente $w_{i}$ puede extraerse a partir de una distribución gaussiana, centrada en cero y con una precisión $\\lambda_{i}$\n",
    "\n",
    "$$p(w|\\lambda) = \\mathcal{N}(w|0,A^{-1})$$\n",
    "\n",
    "donde $A$ es una matriz diagonal definida positiva y\n",
    "\n",
    "$$\\text{diag}(A) = \\lambda = \\{\\lambda_{1},...,\\lambda_{p}\\}$$\n",
    "\n",
    "A diferencia de la regresión de cresta bayesiana, cada coordenada de $w_{i}$ tiene su propia desviación estándar $\\frac{1}{\\lambda_i}$. Se elige que la distribución previa general $\\lambda_i$ sea la misma distribución gamma dada por los hiperparámetros $\\lambda_1$ y $\\lambda_2$.\n",
    "\n",
    "ARD también se conoce en la literatura como `aprendizaje bayesiano disperso` y máquina de vectores de relevancia."
   ]
  },
  {
   "attachments": {},
   "cell_type": "markdown",
   "metadata": {},
   "source": [
    "# **3. Advantages of using TBATS** <a class=\"anchor\" id=\"3\"></a>\n",
    "\n",
    "[Table of Contents](#0)\n",
    "\n",
    "A continuación, se presenta una tabla que resume las ventajas y desventajas del modelo TBATS (Trigonometric Seasonal, Box-Cox Transformation, ARMA residuals, Trend and Seasonality):\n",
    "\n",
    "| Ventajas                                          | Desventajas                                              |\n",
    "|---------------------------------------------------|----------------------------------------------------------|\n",
    "| 1. Manejo de múltiples componentes de estacionalidad | 1. Mayor complejidad en comparación con otros modelos     |\n",
    "| 2. Flexibilidad en la modelización de tendencias    | 2. Mayor tiempo de cálculo necesario para ajustar el modelo |\n",
    "| 3. Capacidad para ajustar transformaciones Box-Cox  | 3. Requiere un conjunto de datos históricos suficiente      |\n",
    "| 4. Incorporación de componentes autoregresivos      | 4. Sensibilidad a valores atípicos y datos faltantes        |\n",
    "| 5. Apto para series de tiempo con patrones complejos |                                                          |\n",
    "\n",
    "Es importante tener en cuenta que estas ventajas y desventajas pueden variar según el contexto y los datos específicos utilizados en el modelo TBATS. Además, es recomendable considerar otras alternativas de modelos y técnicas de pronóstico según las características y requisitos de cada situación."
   ]
  },
  {
   "attachments": {},
   "cell_type": "markdown",
   "metadata": {},
   "source": [
    "# **4. Caso de Estudio: Pronóstico de anuncios vistos** <a class=\"anchor\" id=\"4\"></a>\n",
    "\n",
    "[Table of Contents](#0)\n",
    "\n",
    "En este caso de estudio, nos centraremos en el pronóstico de la cantidad de anuncios vistos utilizando datos por hora. Utilizaremos el modelo de series de tiempo TBATS (Trigonometric seasonality, Box-Cox transformation, ARMA errors, Trend and Seasonal components) para predecir la cantidad de anuncios que se verán en horas futuras. Este enfoque nos permitirá obtener pronósticos precisos y confiables, teniendo en cuenta la estacionalidad, la tendencia y los patrones complejos presentes en los datos de anuncios vistos.\n",
    "\n",
    "Datos y objetivo:\n",
    "Contamos con un conjunto de datos históricos que registra la cantidad de anuncios vistos en intervalos de una hora a lo largo del tiempo. Nuestro objetivo es utilizar este conjunto de datos para desarrollar un modelo de pronóstico que pueda predecir con precisión la cantidad de anuncios que se verán en las próximas horas. Esto permitirá a las empresas planificar y ajustar sus estrategias de publicidad en función de las estimaciones de visualizaciones de anuncios.\n",
    "\n",
    "Metodología:\n",
    "Utilizaremos el modelo TBATS, que es un enfoque de series de tiempo robusto y flexible que puede manejar múltiples componentes estacionales y tendencias en los datos. El modelo TBATS combina la descomposición trigonométrica de la estacionalidad, la transformación de Box-Cox para estabilizar la varianza, los errores ARMA (Autoregressive Moving Average) para modelar la dependencia temporal, y componentes de tendencia y estacionalidad para capturar los patrones a largo plazo.\n",
    "\n",
    "El primer paso consistirá en explorar y analizar los datos históricos de anuncios vistos por hora. Identificaremos cualquier patrón estacional, tendencia o anomalías presentes en los datos para comprender mejor la dinámica de los anuncios vistos a lo largo del tiempo.\n",
    "\n",
    "Una vez validado el modelo, procederemos a realizar pronósticos de la cantidad de anuncios vistos para las próximas horas. Estos pronósticos nos proporcionarán estimaciones confiables y actualizadas de la demanda de anuncios, lo que permitirá a las empresas adaptar sus estrategias de publicidad en tiempo real y optimizar la entrega de anuncios en momentos clave.\n",
    "\n",
    "Resultados y conclusiones:\n",
    "Los resultados del pronóstico utilizando el modelo TBATS nos ayudarán a comprender y predecir la cantidad de anuncios vistos en función de la hora del día, los días de la semana y otros factores relevantes. Esto permitirá a las empresas tomar decisiones informadas sobre la asignación de recursos, la planificación de inventario de anuncios y la optimización de la entrega de anuncios en momentos de alta demanda.\n",
    "\n",
    "En conclusión, el uso del modelo de series de tiempo TBATS para el pronóstico de anuncios vistos por hora proporciona una herramienta poderosa para las empresas que desean optimizar su estrategia de publicidad en línea. Al aprovechar los patrones estacionales, las tendencias y la dependencia temporal en los datos de anuncios vistos, el modelo TBATS ofrece pronósticos precisos y actualizados que pueden ayudar a las empresas a maximizar su retorno de inversión publicitaria y mejorar la eficiencia en la entrega de anuncios."
   ]
  },
  {
   "attachments": {},
   "cell_type": "markdown",
   "metadata": {},
   "source": [
    "# **5. Loading libraries and data** <a class=\"anchor\" id=\"5\"></a>\n",
    "\n",
    "[Table of Contents](#0.1)"
   ]
  },
  {
   "cell_type": "code",
   "execution_count": 1,
   "metadata": {},
   "outputs": [
    {
     "name": "stderr",
     "output_type": "stream",
     "text": [
      "/Users/user/Documents/miniconda3/envs/myenv/lib/python3.10/site-packages/statsforecast/core.py:27: TqdmExperimentalWarning: Using `tqdm.autonotebook.tqdm` in notebook mode. Use `tqdm.tqdm` instead to force console mode (e.g. in jupyter console)\n",
      "  from tqdm.autonotebook import tqdm\n"
     ]
    }
   ],
   "source": [
    "# Handling and processing of Data\n",
    "# ==============================================================================\n",
    "import numpy as np\n",
    "import pandas as pd\n",
    "\n",
    "import scipy.stats as stats\n",
    "\n",
    "# StatsForecast\n",
    "# ==============================================================================\n",
    "from statsforecast import StatsForecast\n",
    "from utilsforecast.plotting import plot_series\n",
    "\n",
    "# Hide warnings\n",
    "# ==============================================================================\n",
    "import warnings\n",
    "warnings.filterwarnings(\"ignore\")"
   ]
  },
  {
   "cell_type": "code",
   "execution_count": 2,
   "metadata": {},
   "outputs": [],
   "source": [
    "# Plot\n",
    "# ==============================================================================\n",
    "import matplotlib.pyplot as plt\n",
    "import matplotlib.ticker as ticker\n",
    "from statsmodels.graphics.tsaplots import plot_acf\n",
    "from statsmodels.graphics.tsaplots import plot_pacf\n",
    "import seaborn as sns\n",
    "plt.style.use('grayscale') # fivethirtyeight  grayscale  classic\n",
    "#plt.rcParams['lines.linewidth'] = 1.5\n",
    "\n",
    "# Define the plot size\n",
    "# ==============================================================================\n",
    "\n",
    "plt.rcParams['figure.figsize'] = (18,7)\n",
    "\n",
    "# Hide warnings\n",
    "# ==============================================================================\n",
    "import warnings\n",
    "warnings.filterwarnings(\"ignore\")"
   ]
  },
  {
   "cell_type": "code",
   "execution_count": 3,
   "metadata": {},
   "outputs": [],
   "source": [
    "plt.style.use('classic') # fivethirtyeight  grayscale  classic\n",
    "dark_style = {\n",
    "    'axes.facecolor': \"#98daa7\"}  # '#484366'  '#008080' \"#abc9ea\",\"#98daa7\" ,\"#f3aba8\"  ,\"#d3c3f7\",\"#f3f3af\",\"#c0ebe9\"\n",
    "plt.rcParams.update(dark_style)"
   ]
  },
  {
   "attachments": {},
   "cell_type": "markdown",
   "metadata": {},
   "source": [
    "## **5.1 Read Data**"
   ]
  },
  {
   "cell_type": "code",
   "execution_count": 5,
   "metadata": {},
   "outputs": [
    {
     "data": {
      "text/html": [
       "<div>\n",
       "<style scoped>\n",
       "    .dataframe tbody tr th:only-of-type {\n",
       "        vertical-align: middle;\n",
       "    }\n",
       "\n",
       "    .dataframe tbody tr th {\n",
       "        vertical-align: top;\n",
       "    }\n",
       "\n",
       "    .dataframe thead th {\n",
       "        text-align: right;\n",
       "    }\n",
       "</style>\n",
       "<table border=\"1\" class=\"dataframe\">\n",
       "  <thead>\n",
       "    <tr style=\"text-align: right;\">\n",
       "      <th></th>\n",
       "      <th>Time</th>\n",
       "      <th>Ads</th>\n",
       "    </tr>\n",
       "  </thead>\n",
       "  <tbody>\n",
       "    <tr>\n",
       "      <th>0</th>\n",
       "      <td>2017-09-13T00:00:00</td>\n",
       "      <td>80115</td>\n",
       "    </tr>\n",
       "    <tr>\n",
       "      <th>1</th>\n",
       "      <td>2017-09-13T01:00:00</td>\n",
       "      <td>79885</td>\n",
       "    </tr>\n",
       "    <tr>\n",
       "      <th>2</th>\n",
       "      <td>2017-09-13T02:00:00</td>\n",
       "      <td>89325</td>\n",
       "    </tr>\n",
       "    <tr>\n",
       "      <th>3</th>\n",
       "      <td>2017-09-13T03:00:00</td>\n",
       "      <td>101930</td>\n",
       "    </tr>\n",
       "    <tr>\n",
       "      <th>4</th>\n",
       "      <td>2017-09-13T04:00:00</td>\n",
       "      <td>121630</td>\n",
       "    </tr>\n",
       "  </tbody>\n",
       "</table>\n",
       "</div>"
      ],
      "text/plain": [
       "                  Time     Ads\n",
       "0  2017-09-13T00:00:00   80115\n",
       "1  2017-09-13T01:00:00   79885\n",
       "2  2017-09-13T02:00:00   89325\n",
       "3  2017-09-13T03:00:00  101930\n",
       "4  2017-09-13T04:00:00  121630"
      ]
     },
     "execution_count": 5,
     "metadata": {},
     "output_type": "execute_result"
    }
   ],
   "source": [
    "df= pd.read_csv(\"https://raw.githubusercontent.com/Naren8520/Serie-de-tiempo-con-Machine-Learning/main/Data/ads.csv\")\n",
    "df.head()"
   ]
  },
  {
   "cell_type": "code",
   "execution_count": 5,
   "metadata": {},
   "outputs": [
    {
     "name": "stdout",
     "output_type": "stream",
     "text": [
      "<class 'pandas.core.frame.DataFrame'>\n",
      "RangeIndex: 216 entries, 0 to 215\n",
      "Data columns (total 2 columns):\n",
      " #   Column  Non-Null Count  Dtype \n",
      "---  ------  --------------  ----- \n",
      " 0   Time    216 non-null    object\n",
      " 1   Ads     216 non-null    int64 \n",
      "dtypes: int64(1), object(1)\n",
      "memory usage: 3.5+ KB\n"
     ]
    }
   ],
   "source": [
    "df.info()"
   ]
  },
  {
   "attachments": {},
   "cell_type": "markdown",
   "metadata": {},
   "source": [
    "The input to StatsForecast is always a data frame in long format with three columns: unique_id, ds and y:\n",
    "\n",
    "* The `unique_id` (string, int or category) represents an identifier for the series.\n",
    "\n",
    "* The `ds` (datestamp) column should be of a format expected by Pandas, ideally YYYY-MM-DD for a date or YYYY-MM-DD HH:MM:SS for a timestamp.\n",
    "\n",
    "* The `y` (numeric) represents the measurement we wish to forecast."
   ]
  },
  {
   "cell_type": "code",
   "execution_count": 5,
   "metadata": {},
   "outputs": [
    {
     "data": {
      "text/html": [
       "<div>\n",
       "<style scoped>\n",
       "    .dataframe tbody tr th:only-of-type {\n",
       "        vertical-align: middle;\n",
       "    }\n",
       "\n",
       "    .dataframe tbody tr th {\n",
       "        vertical-align: top;\n",
       "    }\n",
       "\n",
       "    .dataframe thead th {\n",
       "        text-align: right;\n",
       "    }\n",
       "</style>\n",
       "<table border=\"1\" class=\"dataframe\">\n",
       "  <thead>\n",
       "    <tr style=\"text-align: right;\">\n",
       "      <th></th>\n",
       "      <th>ds</th>\n",
       "      <th>y</th>\n",
       "      <th>unique_id</th>\n",
       "    </tr>\n",
       "  </thead>\n",
       "  <tbody>\n",
       "    <tr>\n",
       "      <th>0</th>\n",
       "      <td>2017-09-13T00:00:00</td>\n",
       "      <td>80115</td>\n",
       "      <td>1</td>\n",
       "    </tr>\n",
       "    <tr>\n",
       "      <th>1</th>\n",
       "      <td>2017-09-13T01:00:00</td>\n",
       "      <td>79885</td>\n",
       "      <td>1</td>\n",
       "    </tr>\n",
       "    <tr>\n",
       "      <th>2</th>\n",
       "      <td>2017-09-13T02:00:00</td>\n",
       "      <td>89325</td>\n",
       "      <td>1</td>\n",
       "    </tr>\n",
       "    <tr>\n",
       "      <th>3</th>\n",
       "      <td>2017-09-13T03:00:00</td>\n",
       "      <td>101930</td>\n",
       "      <td>1</td>\n",
       "    </tr>\n",
       "    <tr>\n",
       "      <th>4</th>\n",
       "      <td>2017-09-13T04:00:00</td>\n",
       "      <td>121630</td>\n",
       "      <td>1</td>\n",
       "    </tr>\n",
       "  </tbody>\n",
       "</table>\n",
       "</div>"
      ],
      "text/plain": [
       "                    ds       y unique_id\n",
       "0  2017-09-13T00:00:00   80115         1\n",
       "1  2017-09-13T01:00:00   79885         1\n",
       "2  2017-09-13T02:00:00   89325         1\n",
       "3  2017-09-13T03:00:00  101930         1\n",
       "4  2017-09-13T04:00:00  121630         1"
      ]
     },
     "execution_count": 5,
     "metadata": {},
     "output_type": "execute_result"
    }
   ],
   "source": [
    "# Renombrar las variables\n",
    "df[\"unique_id\"]=\"1\"\n",
    "df.columns=[\"ds\", \"y\", \"unique_id\"]\n",
    "df.head()"
   ]
  },
  {
   "cell_type": "code",
   "execution_count": 7,
   "metadata": {},
   "outputs": [
    {
     "data": {
      "text/html": [
       "<div>\n",
       "<style scoped>\n",
       "    .dataframe tbody tr th:only-of-type {\n",
       "        vertical-align: middle;\n",
       "    }\n",
       "\n",
       "    .dataframe tbody tr th {\n",
       "        vertical-align: top;\n",
       "    }\n",
       "\n",
       "    .dataframe thead th {\n",
       "        text-align: right;\n",
       "    }\n",
       "</style>\n",
       "<table border=\"1\" class=\"dataframe\">\n",
       "  <thead>\n",
       "    <tr style=\"text-align: right;\">\n",
       "      <th></th>\n",
       "      <th>ds</th>\n",
       "      <th>y</th>\n",
       "      <th>unique_id</th>\n",
       "    </tr>\n",
       "  </thead>\n",
       "  <tbody>\n",
       "    <tr>\n",
       "      <th>211</th>\n",
       "      <td>2017-09-21T19:00:00</td>\n",
       "      <td>155890</td>\n",
       "      <td>1</td>\n",
       "    </tr>\n",
       "    <tr>\n",
       "      <th>212</th>\n",
       "      <td>2017-09-21T20:00:00</td>\n",
       "      <td>123395</td>\n",
       "      <td>1</td>\n",
       "    </tr>\n",
       "    <tr>\n",
       "      <th>213</th>\n",
       "      <td>2017-09-21T21:00:00</td>\n",
       "      <td>103080</td>\n",
       "      <td>1</td>\n",
       "    </tr>\n",
       "    <tr>\n",
       "      <th>214</th>\n",
       "      <td>2017-09-21T22:00:00</td>\n",
       "      <td>95155</td>\n",
       "      <td>1</td>\n",
       "    </tr>\n",
       "    <tr>\n",
       "      <th>215</th>\n",
       "      <td>2017-09-21T23:00:00</td>\n",
       "      <td>80285</td>\n",
       "      <td>1</td>\n",
       "    </tr>\n",
       "  </tbody>\n",
       "</table>\n",
       "</div>"
      ],
      "text/plain": [
       "                      ds       y unique_id\n",
       "211  2017-09-21T19:00:00  155890         1\n",
       "212  2017-09-21T20:00:00  123395         1\n",
       "213  2017-09-21T21:00:00  103080         1\n",
       "214  2017-09-21T22:00:00   95155         1\n",
       "215  2017-09-21T23:00:00   80285         1"
      ]
     },
     "execution_count": 7,
     "metadata": {},
     "output_type": "execute_result"
    }
   ],
   "source": [
    "df.tail()"
   ]
  },
  {
   "cell_type": "code",
   "execution_count": 8,
   "metadata": {},
   "outputs": [
    {
     "name": "stdout",
     "output_type": "stream",
     "text": [
      "<class 'pandas.core.frame.DataFrame'>\n",
      "RangeIndex: 216 entries, 0 to 215\n",
      "Data columns (total 3 columns):\n",
      " #   Column     Non-Null Count  Dtype \n",
      "---  ------     --------------  ----- \n",
      " 0   ds         216 non-null    object\n",
      " 1   y          216 non-null    int64 \n",
      " 2   unique_id  216 non-null    object\n",
      "dtypes: int64(1), object(2)\n",
      "memory usage: 5.2+ KB\n"
     ]
    }
   ],
   "source": [
    "df.info()"
   ]
  },
  {
   "attachments": {},
   "cell_type": "markdown",
   "metadata": {},
   "source": [
    "We can see that our time variable `(ds)` is in an object format, we need to convert to a date format"
   ]
  },
  {
   "cell_type": "code",
   "execution_count": 6,
   "metadata": {},
   "outputs": [],
   "source": [
    "# Convert to a datetime format\n",
    "from datetime import datetime\n",
    "df[\"ds\"] = pd.to_datetime(df[\"ds\"])"
   ]
  },
  {
   "cell_type": "code",
   "execution_count": 10,
   "metadata": {},
   "outputs": [
    {
     "data": {
      "text/plain": [
       "ds           datetime64[ns]\n",
       "y                     int64\n",
       "unique_id            object\n",
       "dtype: object"
      ]
     },
     "execution_count": 10,
     "metadata": {},
     "output_type": "execute_result"
    }
   ],
   "source": [
    "df.dtypes"
   ]
  },
  {
   "attachments": {},
   "cell_type": "markdown",
   "metadata": {},
   "source": [
    "# **6. Explore Data with the plot method** <a class=\"anchor\" id=\"6\"></a>\n",
    "\n",
    "[Table of Contents](#0.1)\n",
    "\n",
    "Plot some series using the plot method from the StatsForecast class. This method prints 8 random series from the dataset and is useful for basic EDA."
   ]
  },
  {
   "cell_type": "code",
   "execution_count": 11,
   "metadata": {},
   "outputs": [
    {
     "data": {
      "image/png": "[encoded data removed]",
      "text/plain": [
       "<Figure size 1280x280 with 1 Axes>"
      ]
     },
     "execution_count": 11,
     "metadata": {},
     "output_type": "execute_result"
    }
   ],
   "source": [
    "from statsforecast import StatsForecast\n",
    "\n",
    "StatsForecast.plot(df)"
   ]
  },
  {
   "attachments": {},
   "cell_type": "markdown",
   "metadata": {},
   "source": [
    "## **6.1 Autocorrelation plots**"
   ]
  },
  {
   "cell_type": "code",
   "execution_count": 12,
   "metadata": {},
   "outputs": [
    {
     "data": {
      "image/png": "[encoded data removed]",
      "text/plain": [
       "<Figure size 1440x560 with 2 Axes>"
      ]
     },
     "metadata": {},
     "output_type": "display_data"
    }
   ],
   "source": [
    "plt.rcParams['figure.figsize'] = (18,7)\n",
    "fig, axs = plt.subplots(nrows=1, ncols=2)\n",
    "\n",
    "plot_acf(df[\"y\"],  lags=60, ax=axs[0],color=\"fuchsia\")\n",
    "axs[0].set_title(\"Autocorrelation\");\n",
    "\n",
    "# Grafico\n",
    "plot_pacf(df[\"y\"],  lags=60, ax=axs[1],color=\"lime\")\n",
    "axs[1].set_title('Partial Autocorrelation')\n",
    "\n",
    "#plt.savefig(\"Gráfico de Densidad y qq\")\n",
    "plt.show();"
   ]
  },
  {
   "attachments": {},
   "cell_type": "markdown",
   "metadata": {},
   "source": [
    "## **6.2 Seasonal plots**"
   ]
  },
  {
   "cell_type": "code",
   "execution_count": 13,
   "metadata": {},
   "outputs": [
    {
     "data": {
      "image/png": "[encoded data removed]",
      "text/plain": [
       "<Figure size 1280x400 with 1 Axes>"
      ]
     },
     "metadata": {},
     "output_type": "display_data"
    }
   ],
   "source": [
    "# Boxplot graph for hourly seasonality\n",
    "# ==============================================================================\n",
    "df1=df.copy()\n",
    "fig, ax = plt.subplots(figsize=(16, 5))\n",
    "df1['hours'] = df1['ds'].apply(lambda x: x.hour)\n",
    "df1.boxplot(column=\"y\", by='hours', ax=ax, color=\"red\")\n",
    "df1.groupby('hours')[\"y\"].median().plot(style='o-', linewidth=0.9, ax=ax)\n",
    "ax.set_ylabel('Ads Watched')\n",
    "ax.set_title('Ads watched (hourly)')\n",
    "fig.suptitle('');\n",
    "#plt.savefig(\"Gráfico de Barra\")"
   ]
  },
  {
   "attachments": {},
   "cell_type": "markdown",
   "metadata": {},
   "source": [
    "# **7. Split the data into training and testing** <a class=\"anchor\" id=\"7\"></a>\n",
    "\n",
    "[Table of Contents](#0.1)\n",
    "\n",
    "Let's divide our data into sets\n",
    "1. Data to train our `TBATS` model\n",
    "2. Data to test our model\n",
    "\n",
    "For the test data we will use the last 12 months to test and evaluate the performance of our model."
   ]
  },
  {
   "cell_type": "code",
   "execution_count": 7,
   "metadata": {},
   "outputs": [
    {
     "data": {
      "text/plain": [
       "((186, 3), (30, 3))"
      ]
     },
     "execution_count": 7,
     "metadata": {},
     "output_type": "execute_result"
    }
   ],
   "source": [
    "train = df[df.ds<='2017-09-20 17:00:00'] \n",
    "test = df[df.ds>'2017-09-20 17:00:00'] \n",
    "\n",
    "train.shape, test.shape"
   ]
  },
  {
   "cell_type": "code",
   "execution_count": 15,
   "metadata": {},
   "outputs": [
    {
     "data": {
      "image/png": "[encoded data removed]",
      "text/plain": [
       "<Figure size 1440x560 with 1 Axes>"
      ]
     },
     "metadata": {},
     "output_type": "display_data"
    }
   ],
   "source": [
    "sns.lineplot(train,x=\"ds\", y=\"y\", label=\"Train\", linestyle=\"--\",linewidth=2)\n",
    "sns.lineplot(test, x=\"ds\", y=\"y\", label=\"Test\", linewidth=2, color = \"red\")\n",
    "plt.title(\"Ads watched (hourly data)\");\n",
    "plt.show()"
   ]
  },
  {
   "attachments": {},
   "cell_type": "markdown",
   "metadata": {},
   "source": [
    "# **8. Modelando** <a class=\"anchor\" id=\"8\"></a>\n"
   ]
  },
  {
   "attachments": {},
   "cell_type": "markdown",
   "metadata": {},
   "source": [
    "## **8.1 Load libraries**"
   ]
  },
  {
   "cell_type": "code",
   "execution_count": 8,
   "metadata": {},
   "outputs": [],
   "source": [
    "# Comparacion de modelos Regresion Bayesian\n",
    "from sklearn.linear_model import ARDRegression, BayesianRidge, LinearRegression"
   ]
  },
  {
   "attachments": {},
   "cell_type": "markdown",
   "metadata": {},
   "source": [
    "## **8.2 Building Model**"
   ]
  },
  {
   "cell_type": "code",
   "execution_count": 17,
   "metadata": {},
   "outputs": [],
   "source": [
    "# Creamos un diccionario con los modelos a entrenar\n",
    "models = { \n",
    "    \"ADR\": ARDRegression(),\n",
    "    \"BayeRidge\": BayesianRidge(),\n",
    "    \"lr\": LinearRegression()\n",
    "}"
   ]
  },
  {
   "attachments": {},
   "cell_type": "markdown",
   "metadata": {},
   "source": [
    "We fit the models by instantiating a new StatsForecast object with the following parameters:\n",
    "\n",
    "models: a list of models. Select the models you want from models and import them.\n",
    "\n",
    "* `freq:` a string indicating the frequency of the data. (See [panda’s available frequencies](https://pandas.pydata.org/pandas-docs/stable/user_guide/timeseries.html#offset-aliases).)\n",
    "\n",
    "* `n_jobs:` n_jobs: int, number of jobs used in the parallel processing, use -1 for all cores.\n",
    "\n",
    "* `fallback_model:` a model to be used if a model fails.\n",
    "\n",
    "Any settings are passed into the constructor. Then you call its fit method and pass in the historical data frame."
   ]
  },
  {
   "cell_type": "code",
   "execution_count": 9,
   "metadata": {},
   "outputs": [],
   "source": [
    "# Modelo ML\n",
    "# ==============================================================================\n",
    "from mlforecast import MLForecast\n",
    "from mlforecast.target_transforms import Differences\n",
    "from mlforecast.target_transforms import LocalRobustScaler, LocalStandardScaler\n",
    "from mlforecast.utils import PredictionIntervals\n",
    "from mlforecast.lag_transforms import ExponentiallyWeightedMean, RollingQuantile, RollingMean, RollingStd"
   ]
  },
  {
   "cell_type": "code",
   "execution_count": 19,
   "metadata": {},
   "outputs": [],
   "source": [
    "mlf = MLForecast(models = models,\n",
    "                 freq = 'H',\n",
    "                 lags = range(1,14,1),\n",
    "                 lag_transforms={\n",
    "        1: [\n",
    "            ExponentiallyWeightedMean(alpha=0.5),\n",
    "            RollingMean(window_size=2),\n",
    "            RollingMean(window_size=4),\n",
    "            RollingMean(window_size=6),\n",
    "            RollingMean(window_size=12),\n",
    "            RollingQuantile(window_size=2, p=0.5),\n",
    "            RollingQuantile(window_size=4, p=0.5),\n",
    "            RollingQuantile(window_size=6, p=0.5),\n",
    "            RollingStd(window_size=2),\n",
    "            RollingStd(window_size=4)\n",
    "        ],},\n",
    "                 target_transforms=[Differences([48]),  LocalStandardScaler()], # LocalStandardScaler() LocalRobustScaler(scale='iqr')  Differences([1]),\n",
    "                 #date_features=[\"year\", \"month\", \"day\"],\n",
    "                 num_threads = 32)"
   ]
  },
  {
   "attachments": {},
   "cell_type": "markdown",
   "metadata": {},
   "source": [
    "## **8.3 Fit the Model**"
   ]
  },
  {
   "cell_type": "code",
   "execution_count": 20,
   "metadata": {},
   "outputs": [
    {
     "data": {
      "text/plain": [
       "MLForecast(models=[ADR, BayeRidge, lr], freq=H, lag_features=['lag1', 'lag2', 'lag3', 'lag4', 'lag5', 'lag6', 'lag7', 'lag8', 'lag9', 'lag10', 'lag11', 'lag12', 'lag13', 'exponentially_weighted_mean_lag1_alpha0.5', 'rolling_mean_lag1_window_size2', 'rolling_mean_lag1_window_size4', 'rolling_mean_lag1_window_size6', 'rolling_mean_lag1_window_size12', 'rolling_quantile_lag1_p0.5_window_size2', 'rolling_quantile_lag1_p0.5_window_size4', 'rolling_quantile_lag1_p0.5_window_size6', 'rolling_std_lag1_window_size2', 'rolling_std_lag1_window_size4'], date_features=[], num_threads=32)"
      ]
     },
     "execution_count": 20,
     "metadata": {},
     "output_type": "execute_result"
    }
   ],
   "source": [
    "# fit the models\n",
    "mlf.fit(train,  fitted = True, static_features= [], )"
   ]
  },
  {
   "attachments": {},
   "cell_type": "markdown",
   "metadata": {},
   "source": [
    "Let's see the results of our TBATS model. We can observe it with the following instruction:"
   ]
  },
  {
   "cell_type": "code",
   "execution_count": 21,
   "metadata": {},
   "outputs": [
    {
     "data": {
      "text/html": [
       "<div>\n",
       "<style scoped>\n",
       "    .dataframe tbody tr th:only-of-type {\n",
       "        vertical-align: middle;\n",
       "    }\n",
       "\n",
       "    .dataframe tbody tr th {\n",
       "        vertical-align: top;\n",
       "    }\n",
       "\n",
       "    .dataframe thead th {\n",
       "        text-align: right;\n",
       "    }\n",
       "</style>\n",
       "<table border=\"1\" class=\"dataframe\">\n",
       "  <thead>\n",
       "    <tr style=\"text-align: right;\">\n",
       "      <th></th>\n",
       "      <th>unique_id</th>\n",
       "      <th>ds</th>\n",
       "      <th>y</th>\n",
       "      <th>ADR</th>\n",
       "      <th>BayeRidge</th>\n",
       "      <th>lr</th>\n",
       "    </tr>\n",
       "  </thead>\n",
       "  <tbody>\n",
       "    <tr>\n",
       "      <th>0</th>\n",
       "      <td>1</td>\n",
       "      <td>2017-09-15 13:00:00</td>\n",
       "      <td>146275.0</td>\n",
       "      <td>146285.125000</td>\n",
       "      <td>145731.703125</td>\n",
       "      <td>145540.125000</td>\n",
       "    </tr>\n",
       "    <tr>\n",
       "      <th>1</th>\n",
       "      <td>1</td>\n",
       "      <td>2017-09-15 14:00:00</td>\n",
       "      <td>148020.0</td>\n",
       "      <td>147717.968750</td>\n",
       "      <td>148314.328125</td>\n",
       "      <td>150450.046875</td>\n",
       "    </tr>\n",
       "    <tr>\n",
       "      <th>2</th>\n",
       "      <td>1</td>\n",
       "      <td>2017-09-15 15:00:00</td>\n",
       "      <td>147735.0</td>\n",
       "      <td>150592.218750</td>\n",
       "      <td>151435.109375</td>\n",
       "      <td>153181.375000</td>\n",
       "    </tr>\n",
       "    <tr>\n",
       "      <th>3</th>\n",
       "      <td>1</td>\n",
       "      <td>2017-09-15 16:00:00</td>\n",
       "      <td>145750.0</td>\n",
       "      <td>141057.265625</td>\n",
       "      <td>140957.921875</td>\n",
       "      <td>139690.125000</td>\n",
       "    </tr>\n",
       "    <tr>\n",
       "      <th>4</th>\n",
       "      <td>1</td>\n",
       "      <td>2017-09-15 17:00:00</td>\n",
       "      <td>149285.0</td>\n",
       "      <td>150179.625000</td>\n",
       "      <td>149851.234375</td>\n",
       "      <td>149419.687500</td>\n",
       "    </tr>\n",
       "    <tr>\n",
       "      <th>...</th>\n",
       "      <td>...</td>\n",
       "      <td>...</td>\n",
       "      <td>...</td>\n",
       "      <td>...</td>\n",
       "      <td>...</td>\n",
       "      <td>...</td>\n",
       "    </tr>\n",
       "    <tr>\n",
       "      <th>120</th>\n",
       "      <td>1</td>\n",
       "      <td>2017-09-20 13:00:00</td>\n",
       "      <td>140990.0</td>\n",
       "      <td>139701.171875</td>\n",
       "      <td>139558.390625</td>\n",
       "      <td>139418.421875</td>\n",
       "    </tr>\n",
       "    <tr>\n",
       "      <th>121</th>\n",
       "      <td>1</td>\n",
       "      <td>2017-09-20 14:00:00</td>\n",
       "      <td>141525.0</td>\n",
       "      <td>139674.062500</td>\n",
       "      <td>140925.500000</td>\n",
       "      <td>139667.437500</td>\n",
       "    </tr>\n",
       "    <tr>\n",
       "      <th>122</th>\n",
       "      <td>1</td>\n",
       "      <td>2017-09-20 15:00:00</td>\n",
       "      <td>141590.0</td>\n",
       "      <td>146033.625000</td>\n",
       "      <td>146770.812500</td>\n",
       "      <td>146064.640625</td>\n",
       "    </tr>\n",
       "    <tr>\n",
       "      <th>123</th>\n",
       "      <td>1</td>\n",
       "      <td>2017-09-20 16:00:00</td>\n",
       "      <td>140610.0</td>\n",
       "      <td>141332.640625</td>\n",
       "      <td>141836.687500</td>\n",
       "      <td>142228.171875</td>\n",
       "    </tr>\n",
       "    <tr>\n",
       "      <th>124</th>\n",
       "      <td>1</td>\n",
       "      <td>2017-09-20 17:00:00</td>\n",
       "      <td>139515.0</td>\n",
       "      <td>144546.859375</td>\n",
       "      <td>145228.250000</td>\n",
       "      <td>144783.937500</td>\n",
       "    </tr>\n",
       "  </tbody>\n",
       "</table>\n",
       "<p>125 rows × 6 columns</p>\n",
       "</div>"
      ],
      "text/plain": [
       "    unique_id                  ds         y            ADR      BayeRidge  \\\n",
       "0           1 2017-09-15 13:00:00  146275.0  146285.125000  145731.703125   \n",
       "1           1 2017-09-15 14:00:00  148020.0  147717.968750  148314.328125   \n",
       "2           1 2017-09-15 15:00:00  147735.0  150592.218750  151435.109375   \n",
       "3           1 2017-09-15 16:00:00  145750.0  141057.265625  140957.921875   \n",
       "4           1 2017-09-15 17:00:00  149285.0  150179.625000  149851.234375   \n",
       "..        ...                 ...       ...            ...            ...   \n",
       "120         1 2017-09-20 13:00:00  140990.0  139701.171875  139558.390625   \n",
       "121         1 2017-09-20 14:00:00  141525.0  139674.062500  140925.500000   \n",
       "122         1 2017-09-20 15:00:00  141590.0  146033.625000  146770.812500   \n",
       "123         1 2017-09-20 16:00:00  140610.0  141332.640625  141836.687500   \n",
       "124         1 2017-09-20 17:00:00  139515.0  144546.859375  145228.250000   \n",
       "\n",
       "                lr  \n",
       "0    145540.125000  \n",
       "1    150450.046875  \n",
       "2    153181.375000  \n",
       "3    139690.125000  \n",
       "4    149419.687500  \n",
       "..             ...  \n",
       "120  139418.421875  \n",
       "121  139667.437500  \n",
       "122  146064.640625  \n",
       "123  142228.171875  \n",
       "124  144783.937500  \n",
       "\n",
       "[125 rows x 6 columns]"
      ]
     },
     "execution_count": 21,
     "metadata": {},
     "output_type": "execute_result"
    }
   ],
   "source": [
    "result= mlf.fcst_fitted_values_\n",
    "result"
   ]
  },
  {
   "cell_type": "code",
   "execution_count": 22,
   "metadata": {},
   "outputs": [],
   "source": [
    "plt.style.use('classic') # fivethirtyeight  grayscale  classic\n",
    "dark_style = {\n",
    "    'axes.facecolor': \"#98daa7\"}  # '#484366'  '#008080' \"#abc9ea\",\"#98daa7\" ,\"#f3aba8\"  ,\"#d3c3f7\",\"#f3f3af\",\"#c0ebe9\"\n",
    "plt.rcParams.update(dark_style)"
   ]
  },
  {
   "cell_type": "code",
   "execution_count": 23,
   "metadata": {},
   "outputs": [
    {
     "data": {
      "image/png": "[encoded data removed]",
      "text/plain": [
       "<Figure size 1280x280 with 1 Axes>"
      ]
     },
     "execution_count": 23,
     "metadata": {},
     "output_type": "execute_result"
    }
   ],
   "source": [
    "plot_series(df, result)"
   ]
  },
  {
   "attachments": {},
   "cell_type": "markdown",
   "metadata": {},
   "source": [
    "## **8.4 Predict Method**\n",
    "\n",
    "If you want to gain speed in productive settings where you have multiple series or models we recommend using the `StatsForecast.forecast` method instead of `.fit` and `.predict`.\n",
    "\n",
    "The main difference is that the `.forecast` doest not store the fitted values and is highly scalable in distributed environments.\n",
    "\n",
    "The forecast method takes two arguments: forecasts next `h` (horizon) and `level`.\n",
    "\n",
    "* `h (int):` represents the forecast h steps into the future. In this case, 12 months ahead.\n",
    "\n",
    "* `level (list of floats):` this optional parameter is used for probabilistic forecasting. Set the level (or confidence percentile) of your prediction interval. For example, `level=[90]` means that the model expects the real value to be inside that interval 90% of the times.\n",
    "\n",
    "The forecast object here is a new data frame that includes a column with the name of the model and the y hat values, as well as columns for the uncertainty intervals. Depending on your computer, this step should take around 1min. (If you want to speed things up to a couple of seconds, remove the AutoModels like `ARIMA` and `Theta`)"
   ]
  },
  {
   "cell_type": "code",
   "execution_count": 24,
   "metadata": {},
   "outputs": [
    {
     "data": {
      "text/html": [
       "<div>\n",
       "<style scoped>\n",
       "    .dataframe tbody tr th:only-of-type {\n",
       "        vertical-align: middle;\n",
       "    }\n",
       "\n",
       "    .dataframe tbody tr th {\n",
       "        vertical-align: top;\n",
       "    }\n",
       "\n",
       "    .dataframe thead th {\n",
       "        text-align: right;\n",
       "    }\n",
       "</style>\n",
       "<table border=\"1\" class=\"dataframe\">\n",
       "  <thead>\n",
       "    <tr style=\"text-align: right;\">\n",
       "      <th></th>\n",
       "      <th>unique_id</th>\n",
       "      <th>ds</th>\n",
       "      <th>ADR</th>\n",
       "      <th>BayeRidge</th>\n",
       "      <th>lr</th>\n",
       "    </tr>\n",
       "  </thead>\n",
       "  <tbody>\n",
       "    <tr>\n",
       "      <th>0</th>\n",
       "      <td>1</td>\n",
       "      <td>2017-09-20 18:00:00</td>\n",
       "      <td>152151.015625</td>\n",
       "      <td>151485.406250</td>\n",
       "      <td>152348.953125</td>\n",
       "    </tr>\n",
       "    <tr>\n",
       "      <th>1</th>\n",
       "      <td>1</td>\n",
       "      <td>2017-09-20 19:00:00</td>\n",
       "      <td>144736.515625</td>\n",
       "      <td>145260.750000</td>\n",
       "      <td>147157.000000</td>\n",
       "    </tr>\n",
       "    <tr>\n",
       "      <th>2</th>\n",
       "      <td>1</td>\n",
       "      <td>2017-09-20 20:00:00</td>\n",
       "      <td>129968.210938</td>\n",
       "      <td>131044.382812</td>\n",
       "      <td>135649.531250</td>\n",
       "    </tr>\n",
       "    <tr>\n",
       "      <th>3</th>\n",
       "      <td>1</td>\n",
       "      <td>2017-09-20 21:00:00</td>\n",
       "      <td>102917.734375</td>\n",
       "      <td>103714.164062</td>\n",
       "      <td>106835.476562</td>\n",
       "    </tr>\n",
       "    <tr>\n",
       "      <th>4</th>\n",
       "      <td>1</td>\n",
       "      <td>2017-09-20 22:00:00</td>\n",
       "      <td>91844.328125</td>\n",
       "      <td>92920.335938</td>\n",
       "      <td>95922.101562</td>\n",
       "    </tr>\n",
       "  </tbody>\n",
       "</table>\n",
       "</div>"
      ],
      "text/plain": [
       "  unique_id                  ds            ADR      BayeRidge             lr\n",
       "0         1 2017-09-20 18:00:00  152151.015625  151485.406250  152348.953125\n",
       "1         1 2017-09-20 19:00:00  144736.515625  145260.750000  147157.000000\n",
       "2         1 2017-09-20 20:00:00  129968.210938  131044.382812  135649.531250\n",
       "3         1 2017-09-20 21:00:00  102917.734375  103714.164062  106835.476562\n",
       "4         1 2017-09-20 22:00:00   91844.328125   92920.335938   95922.101562"
      ]
     },
     "execution_count": 24,
     "metadata": {},
     "output_type": "execute_result"
    }
   ],
   "source": [
    "forecast1 = mlf.predict(h = 30) #\n",
    "forecast1.head()"
   ]
  },
  {
   "attachments": {},
   "cell_type": "markdown",
   "metadata": {},
   "source": [
    "## **Forecasting Plot**"
   ]
  },
  {
   "cell_type": "code",
   "execution_count": 25,
   "metadata": {},
   "outputs": [
    {
     "data": {
      "application/vnd.plotly.v1+json": {
       "config": {
        "plotlyServerURL": "https://plot.ly"
       },
       "data": [
        {
         "legendgroup": "y",
         "line": {
          "color": "#0000ff",
          "width": 1
         },
         "mode": "lines",
         "name": "y",
         "showlegend": true,
         "type": "scatter",
         "x": [
          "2017-09-17T20:00:00",
          "2017-09-17T21:00:00",
          "2017-09-17T22:00:00",
          "2017-09-17T23:00:00",
          "2017-09-18T00:00:00",
          "2017-09-18T01:00:00",
          "2017-09-18T02:00:00",
          "2017-09-18T03:00:00",
          "2017-09-18T04:00:00",
          "2017-09-18T05:00:00",
          "2017-09-18T06:00:00",
          "2017-09-18T07:00:00",
          "2017-09-18T08:00:00",
          "2017-09-18T09:00:00",
          "2017-09-18T10:00:00",
          "2017-09-18T11:00:00",
          "2017-09-18T12:00:00",
          "2017-09-18T13:00:00",
          "2017-09-18T14:00:00",
          "2017-09-18T15:00:00",
          "2017-09-18T16:00:00",
          "2017-09-18T17:00:00",
          "2017-09-18T18:00:00",
          "2017-09-18T19:00:00",
          "2017-09-18T20:00:00",
          "2017-09-18T21:00:00",
          "2017-09-18T22:00:00",
          "2017-09-18T23:00:00",
          "2017-09-19T00:00:00",
          "2017-09-19T01:00:00",
          "2017-09-19T02:00:00",
          "2017-09-19T03:00:00",
          "2017-09-19T04:00:00",
          "2017-09-19T05:00:00",
          "2017-09-19T06:00:00",
          "2017-09-19T07:00:00",
          "2017-09-19T08:00:00",
          "2017-09-19T09:00:00",
          "2017-09-19T10:00:00",
          "2017-09-19T11:00:00",
          "2017-09-19T12:00:00",
          "2017-09-19T13:00:00",
          "2017-09-19T14:00:00",
          "2017-09-19T15:00:00",
          "2017-09-19T16:00:00",
          "2017-09-19T17:00:00",
          "2017-09-19T18:00:00",
          "2017-09-19T19:00:00",
          "2017-09-19T20:00:00",
          "2017-09-19T21:00:00",
          "2017-09-19T22:00:00",
          "2017-09-19T23:00:00",
          "2017-09-20T00:00:00",
          "2017-09-20T01:00:00",
          "2017-09-20T02:00:00",
          "2017-09-20T03:00:00",
          "2017-09-20T04:00:00",
          "2017-09-20T05:00:00",
          "2017-09-20T06:00:00",
          "2017-09-20T07:00:00",
          "2017-09-20T08:00:00",
          "2017-09-20T09:00:00",
          "2017-09-20T10:00:00",
          "2017-09-20T11:00:00",
          "2017-09-20T12:00:00",
          "2017-09-20T13:00:00",
          "2017-09-20T14:00:00",
          "2017-09-20T15:00:00",
          "2017-09-20T16:00:00",
          "2017-09-20T17:00:00",
          "2017-09-20T18:00:00",
          "2017-09-20T19:00:00",
          "2017-09-20T20:00:00",
          "2017-09-20T21:00:00",
          "2017-09-20T22:00:00",
          "2017-09-20T23:00:00",
          "2017-09-21T00:00:00",
          "2017-09-21T01:00:00",
          "2017-09-21T02:00:00",
          "2017-09-21T03:00:00",
          "2017-09-21T04:00:00",
          "2017-09-21T05:00:00",
          "2017-09-21T06:00:00",
          "2017-09-21T07:00:00",
          "2017-09-21T08:00:00",
          "2017-09-21T09:00:00",
          "2017-09-21T10:00:00",
          "2017-09-21T11:00:00",
          "2017-09-21T12:00:00",
          "2017-09-21T13:00:00",
          "2017-09-21T14:00:00",
          "2017-09-21T15:00:00",
          "2017-09-21T16:00:00",
          "2017-09-21T17:00:00",
          "2017-09-21T18:00:00",
          "2017-09-21T19:00:00",
          "2017-09-21T20:00:00",
          "2017-09-21T21:00:00",
          "2017-09-21T22:00:00",
          "2017-09-21T23:00:00",
          "2017-09-20T18:00:00",
          "2017-09-20T19:00:00",
          "2017-09-20T20:00:00",
          "2017-09-20T21:00:00",
          "2017-09-20T22:00:00",
          "2017-09-20T23:00:00",
          "2017-09-21T00:00:00",
          "2017-09-21T01:00:00",
          "2017-09-21T02:00:00",
          "2017-09-21T03:00:00",
          "2017-09-21T04:00:00",
          "2017-09-21T05:00:00",
          "2017-09-21T06:00:00",
          "2017-09-21T07:00:00",
          "2017-09-21T08:00:00",
          "2017-09-21T09:00:00",
          "2017-09-21T10:00:00",
          "2017-09-21T11:00:00",
          "2017-09-21T12:00:00",
          "2017-09-21T13:00:00",
          "2017-09-21T14:00:00",
          "2017-09-21T15:00:00",
          "2017-09-21T16:00:00",
          "2017-09-21T17:00:00",
          "2017-09-21T18:00:00",
          "2017-09-21T19:00:00",
          "2017-09-21T20:00:00",
          "2017-09-21T21:00:00",
          "2017-09-21T22:00:00",
          "2017-09-21T23:00:00"
         ],
         "xaxis": "x",
         "y": [
          142710,
          112955,
          97345,
          81675,
          79510,
          78350,
          88045,
          99790,
          123780,
          111325,
          99440,
          97655,
          97655,
          102565,
          119930,
          135755,
          140120,
          141730,
          142220,
          145360,
          145335,
          150410,
          161520,
          153415,
          134720,
          107065,
          95045,
          79515,
          78335,
          74670,
          81990,
          97950,
          119345,
          113115,
          98880,
          94000,
          93660,
          104185,
          119750,
          135990,
          146455,
          139165,
          147225,
          144935,
          151370,
          156080,
          161385,
          165010,
          134090,
          105585,
          92855,
          79270,
          79980,
          78110,
          85785,
          100010,
          123880,
          116335,
          104290,
          101440,
          97635,
          108265,
          121250,
          140850,
          138555,
          140990,
          141525,
          141590,
          140610,
          139515,
          146215,
          142425,
          123945,
          101360,
          88170,
          76050,
          70335,
          72150,
          80195,
          94945,
          121910,
          113950,
          106495,
          97290,
          98860,
          105635,
          114380,
          132335,
          146630,
          141995,
          142815,
          146020,
          152120,
          151790,
          155665,
          155890,
          123395,
          103080,
          95155,
          80285,
          null,
          null,
          null,
          null,
          null,
          null,
          null,
          null,
          null,
          null,
          null,
          null,
          null,
          null,
          null,
          null,
          null,
          null,
          null,
          null,
          null,
          null,
          null,
          null,
          null,
          null,
          null,
          null,
          null,
          null
         ],
         "yaxis": "y"
        },
        {
         "legendgroup": "ADR",
         "line": {
          "color": "#ff0000",
          "width": 1
         },
         "mode": "lines",
         "name": "ADR",
         "showlegend": true,
         "type": "scatter",
         "x": [
          "2017-09-17T20:00:00",
          "2017-09-17T21:00:00",
          "2017-09-17T22:00:00",
          "2017-09-17T23:00:00",
          "2017-09-18T00:00:00",
          "2017-09-18T01:00:00",
          "2017-09-18T02:00:00",
          "2017-09-18T03:00:00",
          "2017-09-18T04:00:00",
          "2017-09-18T05:00:00",
          "2017-09-18T06:00:00",
          "2017-09-18T07:00:00",
          "2017-09-18T08:00:00",
          "2017-09-18T09:00:00",
          "2017-09-18T10:00:00",
          "2017-09-18T11:00:00",
          "2017-09-18T12:00:00",
          "2017-09-18T13:00:00",
          "2017-09-18T14:00:00",
          "2017-09-18T15:00:00",
          "2017-09-18T16:00:00",
          "2017-09-18T17:00:00",
          "2017-09-18T18:00:00",
          "2017-09-18T19:00:00",
          "2017-09-18T20:00:00",
          "2017-09-18T21:00:00",
          "2017-09-18T22:00:00",
          "2017-09-18T23:00:00",
          "2017-09-19T00:00:00",
          "2017-09-19T01:00:00",
          "2017-09-19T02:00:00",
          "2017-09-19T03:00:00",
          "2017-09-19T04:00:00",
          "2017-09-19T05:00:00",
          "2017-09-19T06:00:00",
          "2017-09-19T07:00:00",
          "2017-09-19T08:00:00",
          "2017-09-19T09:00:00",
          "2017-09-19T10:00:00",
          "2017-09-19T11:00:00",
          "2017-09-19T12:00:00",
          "2017-09-19T13:00:00",
          "2017-09-19T14:00:00",
          "2017-09-19T15:00:00",
          "2017-09-19T16:00:00",
          "2017-09-19T17:00:00",
          "2017-09-19T18:00:00",
          "2017-09-19T19:00:00",
          "2017-09-19T20:00:00",
          "2017-09-19T21:00:00",
          "2017-09-19T22:00:00",
          "2017-09-19T23:00:00",
          "2017-09-20T00:00:00",
          "2017-09-20T01:00:00",
          "2017-09-20T02:00:00",
          "2017-09-20T03:00:00",
          "2017-09-20T04:00:00",
          "2017-09-20T05:00:00",
          "2017-09-20T06:00:00",
          "2017-09-20T07:00:00",
          "2017-09-20T08:00:00",
          "2017-09-20T09:00:00",
          "2017-09-20T10:00:00",
          "2017-09-20T11:00:00",
          "2017-09-20T12:00:00",
          "2017-09-20T13:00:00",
          "2017-09-20T14:00:00",
          "2017-09-20T15:00:00",
          "2017-09-20T16:00:00",
          "2017-09-20T17:00:00",
          "2017-09-20T18:00:00",
          "2017-09-20T19:00:00",
          "2017-09-20T20:00:00",
          "2017-09-20T21:00:00",
          "2017-09-20T22:00:00",
          "2017-09-20T23:00:00",
          "2017-09-21T00:00:00",
          "2017-09-21T01:00:00",
          "2017-09-21T02:00:00",
          "2017-09-21T03:00:00",
          "2017-09-21T04:00:00",
          "2017-09-21T05:00:00",
          "2017-09-21T06:00:00",
          "2017-09-21T07:00:00",
          "2017-09-21T08:00:00",
          "2017-09-21T09:00:00",
          "2017-09-21T10:00:00",
          "2017-09-21T11:00:00",
          "2017-09-21T12:00:00",
          "2017-09-21T13:00:00",
          "2017-09-21T14:00:00",
          "2017-09-21T15:00:00",
          "2017-09-21T16:00:00",
          "2017-09-21T17:00:00",
          "2017-09-21T18:00:00",
          "2017-09-21T19:00:00",
          "2017-09-21T20:00:00",
          "2017-09-21T21:00:00",
          "2017-09-21T22:00:00",
          "2017-09-21T23:00:00",
          "2017-09-20T18:00:00",
          "2017-09-20T19:00:00",
          "2017-09-20T20:00:00",
          "2017-09-20T21:00:00",
          "2017-09-20T22:00:00",
          "2017-09-20T23:00:00",
          "2017-09-21T00:00:00",
          "2017-09-21T01:00:00",
          "2017-09-21T02:00:00",
          "2017-09-21T03:00:00",
          "2017-09-21T04:00:00",
          "2017-09-21T05:00:00",
          "2017-09-21T06:00:00",
          "2017-09-21T07:00:00",
          "2017-09-21T08:00:00",
          "2017-09-21T09:00:00",
          "2017-09-21T10:00:00",
          "2017-09-21T11:00:00",
          "2017-09-21T12:00:00",
          "2017-09-21T13:00:00",
          "2017-09-21T14:00:00",
          "2017-09-21T15:00:00",
          "2017-09-21T16:00:00",
          "2017-09-21T17:00:00",
          "2017-09-21T18:00:00",
          "2017-09-21T19:00:00",
          "2017-09-21T20:00:00",
          "2017-09-21T21:00:00",
          "2017-09-21T22:00:00",
          "2017-09-21T23:00:00"
         ],
         "xaxis": "x",
         "y": [
          null,
          null,
          null,
          null,
          null,
          null,
          null,
          null,
          null,
          null,
          null,
          null,
          null,
          null,
          null,
          null,
          null,
          null,
          null,
          null,
          null,
          null,
          null,
          null,
          null,
          null,
          null,
          null,
          null,
          null,
          null,
          null,
          null,
          null,
          null,
          null,
          null,
          null,
          null,
          null,
          null,
          null,
          null,
          null,
          null,
          null,
          null,
          null,
          null,
          null,
          null,
          null,
          null,
          null,
          null,
          null,
          null,
          null,
          null,
          null,
          null,
          null,
          null,
          null,
          null,
          null,
          null,
          null,
          null,
          null,
          null,
          null,
          null,
          null,
          null,
          null,
          null,
          null,
          null,
          null,
          null,
          null,
          null,
          null,
          null,
          null,
          null,
          null,
          null,
          null,
          null,
          null,
          null,
          null,
          null,
          null,
          null,
          null,
          null,
          null,
          152151.015625,
          144736.515625,
          129968.2109375,
          102917.734375,
          91844.328125,
          74797.4609375,
          73701.2890625,
          70217.1875,
          77610.125,
          94542.6484375,
          116240.3984375,
          110717.640625,
          96590.671875,
          92079.6015625,
          91577.5703125,
          102456.515625,
          118159.03125,
          134678.328125,
          145402.28125,
          138195.171875,
          146352.65625,
          144106.5625,
          150665.265625,
          155396.125,
          160794.4375,
          164409.328125,
          133533.03125,
          105046.2734375,
          92332.5625,
          78743.7734375
         ],
         "yaxis": "y"
        },
        {
         "legendgroup": "BayeRidge",
         "line": {
          "color": "#bf00bf",
          "width": 1
         },
         "mode": "lines",
         "name": "BayeRidge",
         "showlegend": true,
         "type": "scatter",
         "x": [
          "2017-09-17T20:00:00",
          "2017-09-17T21:00:00",
          "2017-09-17T22:00:00",
          "2017-09-17T23:00:00",
          "2017-09-18T00:00:00",
          "2017-09-18T01:00:00",
          "2017-09-18T02:00:00",
          "2017-09-18T03:00:00",
          "2017-09-18T04:00:00",
          "2017-09-18T05:00:00",
          "2017-09-18T06:00:00",
          "2017-09-18T07:00:00",
          "2017-09-18T08:00:00",
          "2017-09-18T09:00:00",
          "2017-09-18T10:00:00",
          "2017-09-18T11:00:00",
          "2017-09-18T12:00:00",
          "2017-09-18T13:00:00",
          "2017-09-18T14:00:00",
          "2017-09-18T15:00:00",
          "2017-09-18T16:00:00",
          "2017-09-18T17:00:00",
          "2017-09-18T18:00:00",
          "2017-09-18T19:00:00",
          "2017-09-18T20:00:00",
          "2017-09-18T21:00:00",
          "2017-09-18T22:00:00",
          "2017-09-18T23:00:00",
          "2017-09-19T00:00:00",
          "2017-09-19T01:00:00",
          "2017-09-19T02:00:00",
          "2017-09-19T03:00:00",
          "2017-09-19T04:00:00",
          "2017-09-19T05:00:00",
          "2017-09-19T06:00:00",
          "2017-09-19T07:00:00",
          "2017-09-19T08:00:00",
          "2017-09-19T09:00:00",
          "2017-09-19T10:00:00",
          "2017-09-19T11:00:00",
          "2017-09-19T12:00:00",
          "2017-09-19T13:00:00",
          "2017-09-19T14:00:00",
          "2017-09-19T15:00:00",
          "2017-09-19T16:00:00",
          "2017-09-19T17:00:00",
          "2017-09-19T18:00:00",
          "2017-09-19T19:00:00",
          "2017-09-19T20:00:00",
          "2017-09-19T21:00:00",
          "2017-09-19T22:00:00",
          "2017-09-19T23:00:00",
          "2017-09-20T00:00:00",
          "2017-09-20T01:00:00",
          "2017-09-20T02:00:00",
          "2017-09-20T03:00:00",
          "2017-09-20T04:00:00",
          "2017-09-20T05:00:00",
          "2017-09-20T06:00:00",
          "2017-09-20T07:00:00",
          "2017-09-20T08:00:00",
          "2017-09-20T09:00:00",
          "2017-09-20T10:00:00",
          "2017-09-20T11:00:00",
          "2017-09-20T12:00:00",
          "2017-09-20T13:00:00",
          "2017-09-20T14:00:00",
          "2017-09-20T15:00:00",
          "2017-09-20T16:00:00",
          "2017-09-20T17:00:00",
          "2017-09-20T18:00:00",
          "2017-09-20T19:00:00",
          "2017-09-20T20:00:00",
          "2017-09-20T21:00:00",
          "2017-09-20T22:00:00",
          "2017-09-20T23:00:00",
          "2017-09-21T00:00:00",
          "2017-09-21T01:00:00",
          "2017-09-21T02:00:00",
          "2017-09-21T03:00:00",
          "2017-09-21T04:00:00",
          "2017-09-21T05:00:00",
          "2017-09-21T06:00:00",
          "2017-09-21T07:00:00",
          "2017-09-21T08:00:00",
          "2017-09-21T09:00:00",
          "2017-09-21T10:00:00",
          "2017-09-21T11:00:00",
          "2017-09-21T12:00:00",
          "2017-09-21T13:00:00",
          "2017-09-21T14:00:00",
          "2017-09-21T15:00:00",
          "2017-09-21T16:00:00",
          "2017-09-21T17:00:00",
          "2017-09-21T18:00:00",
          "2017-09-21T19:00:00",
          "2017-09-21T20:00:00",
          "2017-09-21T21:00:00",
          "2017-09-21T22:00:00",
          "2017-09-21T23:00:00",
          "2017-09-20T18:00:00",
          "2017-09-20T19:00:00",
          "2017-09-20T20:00:00",
          "2017-09-20T21:00:00",
          "2017-09-20T22:00:00",
          "2017-09-20T23:00:00",
          "2017-09-21T00:00:00",
          "2017-09-21T01:00:00",
          "2017-09-21T02:00:00",
          "2017-09-21T03:00:00",
          "2017-09-21T04:00:00",
          "2017-09-21T05:00:00",
          "2017-09-21T06:00:00",
          "2017-09-21T07:00:00",
          "2017-09-21T08:00:00",
          "2017-09-21T09:00:00",
          "2017-09-21T10:00:00",
          "2017-09-21T11:00:00",
          "2017-09-21T12:00:00",
          "2017-09-21T13:00:00",
          "2017-09-21T14:00:00",
          "2017-09-21T15:00:00",
          "2017-09-21T16:00:00",
          "2017-09-21T17:00:00",
          "2017-09-21T18:00:00",
          "2017-09-21T19:00:00",
          "2017-09-21T20:00:00",
          "2017-09-21T21:00:00",
          "2017-09-21T22:00:00",
          "2017-09-21T23:00:00"
         ],
         "xaxis": "x",
         "y": [
          null,
          null,
          null,
          null,
          null,
          null,
          null,
          null,
          null,
          null,
          null,
          null,
          null,
          null,
          null,
          null,
          null,
          null,
          null,
          null,
          null,
          null,
          null,
          null,
          null,
          null,
          null,
          null,
          null,
          null,
          null,
          null,
          null,
          null,
          null,
          null,
          null,
          null,
          null,
          null,
          null,
          null,
          null,
          null,
          null,
          null,
          null,
          null,
          null,
          null,
          null,
          null,
          null,
          null,
          null,
          null,
          null,
          null,
          null,
          null,
          null,
          null,
          null,
          null,
          null,
          null,
          null,
          null,
          null,
          null,
          null,
          null,
          null,
          null,
          null,
          null,
          null,
          null,
          null,
          null,
          null,
          null,
          null,
          null,
          null,
          null,
          null,
          null,
          null,
          null,
          null,
          null,
          null,
          null,
          null,
          null,
          null,
          null,
          null,
          null,
          151485.40625,
          145260.75,
          131044.3828125,
          103714.1640625,
          92920.3359375,
          75296.390625,
          75150.375,
          72343.515625,
          80699.6640625,
          97704.0859375,
          119732.125,
          114604.875,
          100841.21875,
          96314.4296875,
          95276.96875,
          105924.6015625,
          121527.75,
          138693.015625,
          149523.859375,
          142395.40625,
          150208.28125,
          147822.734375,
          154288.125,
          159077.484375,
          164517.484375,
          168148.125,
          137416.578125,
          108970.0546875,
          96328.546875,
          82615.4375
         ],
         "yaxis": "y"
        },
        {
         "legendgroup": "lr",
         "line": {
          "color": "#000000",
          "width": 1
         },
         "mode": "lines",
         "name": "lr",
         "showlegend": true,
         "type": "scatter",
         "x": [
          "2017-09-17T20:00:00",
          "2017-09-17T21:00:00",
          "2017-09-17T22:00:00",
          "2017-09-17T23:00:00",
          "2017-09-18T00:00:00",
          "2017-09-18T01:00:00",
          "2017-09-18T02:00:00",
          "2017-09-18T03:00:00",
          "2017-09-18T04:00:00",
          "2017-09-18T05:00:00",
          "2017-09-18T06:00:00",
          "2017-09-18T07:00:00",
          "2017-09-18T08:00:00",
          "2017-09-18T09:00:00",
          "2017-09-18T10:00:00",
          "2017-09-18T11:00:00",
          "2017-09-18T12:00:00",
          "2017-09-18T13:00:00",
          "2017-09-18T14:00:00",
          "2017-09-18T15:00:00",
          "2017-09-18T16:00:00",
          "2017-09-18T17:00:00",
          "2017-09-18T18:00:00",
          "2017-09-18T19:00:00",
          "2017-09-18T20:00:00",
          "2017-09-18T21:00:00",
          "2017-09-18T22:00:00",
          "2017-09-18T23:00:00",
          "2017-09-19T00:00:00",
          "2017-09-19T01:00:00",
          "2017-09-19T02:00:00",
          "2017-09-19T03:00:00",
          "2017-09-19T04:00:00",
          "2017-09-19T05:00:00",
          "2017-09-19T06:00:00",
          "2017-09-19T07:00:00",
          "2017-09-19T08:00:00",
          "2017-09-19T09:00:00",
          "2017-09-19T10:00:00",
          "2017-09-19T11:00:00",
          "2017-09-19T12:00:00",
          "2017-09-19T13:00:00",
          "2017-09-19T14:00:00",
          "2017-09-19T15:00:00",
          "2017-09-19T16:00:00",
          "2017-09-19T17:00:00",
          "2017-09-19T18:00:00",
          "2017-09-19T19:00:00",
          "2017-09-19T20:00:00",
          "2017-09-19T21:00:00",
          "2017-09-19T22:00:00",
          "2017-09-19T23:00:00",
          "2017-09-20T00:00:00",
          "2017-09-20T01:00:00",
          "2017-09-20T02:00:00",
          "2017-09-20T03:00:00",
          "2017-09-20T04:00:00",
          "2017-09-20T05:00:00",
          "2017-09-20T06:00:00",
          "2017-09-20T07:00:00",
          "2017-09-20T08:00:00",
          "2017-09-20T09:00:00",
          "2017-09-20T10:00:00",
          "2017-09-20T11:00:00",
          "2017-09-20T12:00:00",
          "2017-09-20T13:00:00",
          "2017-09-20T14:00:00",
          "2017-09-20T15:00:00",
          "2017-09-20T16:00:00",
          "2017-09-20T17:00:00",
          "2017-09-20T18:00:00",
          "2017-09-20T19:00:00",
          "2017-09-20T20:00:00",
          "2017-09-20T21:00:00",
          "2017-09-20T22:00:00",
          "2017-09-20T23:00:00",
          "2017-09-21T00:00:00",
          "2017-09-21T01:00:00",
          "2017-09-21T02:00:00",
          "2017-09-21T03:00:00",
          "2017-09-21T04:00:00",
          "2017-09-21T05:00:00",
          "2017-09-21T06:00:00",
          "2017-09-21T07:00:00",
          "2017-09-21T08:00:00",
          "2017-09-21T09:00:00",
          "2017-09-21T10:00:00",
          "2017-09-21T11:00:00",
          "2017-09-21T12:00:00",
          "2017-09-21T13:00:00",
          "2017-09-21T14:00:00",
          "2017-09-21T15:00:00",
          "2017-09-21T16:00:00",
          "2017-09-21T17:00:00",
          "2017-09-21T18:00:00",
          "2017-09-21T19:00:00",
          "2017-09-21T20:00:00",
          "2017-09-21T21:00:00",
          "2017-09-21T22:00:00",
          "2017-09-21T23:00:00",
          "2017-09-20T18:00:00",
          "2017-09-20T19:00:00",
          "2017-09-20T20:00:00",
          "2017-09-20T21:00:00",
          "2017-09-20T22:00:00",
          "2017-09-20T23:00:00",
          "2017-09-21T00:00:00",
          "2017-09-21T01:00:00",
          "2017-09-21T02:00:00",
          "2017-09-21T03:00:00",
          "2017-09-21T04:00:00",
          "2017-09-21T05:00:00",
          "2017-09-21T06:00:00",
          "2017-09-21T07:00:00",
          "2017-09-21T08:00:00",
          "2017-09-21T09:00:00",
          "2017-09-21T10:00:00",
          "2017-09-21T11:00:00",
          "2017-09-21T12:00:00",
          "2017-09-21T13:00:00",
          "2017-09-21T14:00:00",
          "2017-09-21T15:00:00",
          "2017-09-21T16:00:00",
          "2017-09-21T17:00:00",
          "2017-09-21T18:00:00",
          "2017-09-21T19:00:00",
          "2017-09-21T20:00:00",
          "2017-09-21T21:00:00",
          "2017-09-21T22:00:00",
          "2017-09-21T23:00:00"
         ],
         "xaxis": "x",
         "y": [
          null,
          null,
          null,
          null,
          null,
          null,
          null,
          null,
          null,
          null,
          null,
          null,
          null,
          null,
          null,
          null,
          null,
          null,
          null,
          null,
          null,
          null,
          null,
          null,
          null,
          null,
          null,
          null,
          null,
          null,
          null,
          null,
          null,
          null,
          null,
          null,
          null,
          null,
          null,
          null,
          null,
          null,
          null,
          null,
          null,
          null,
          null,
          null,
          null,
          null,
          null,
          null,
          null,
          null,
          null,
          null,
          null,
          null,
          null,
          null,
          null,
          null,
          null,
          null,
          null,
          null,
          null,
          null,
          null,
          null,
          null,
          null,
          null,
          null,
          null,
          null,
          null,
          null,
          null,
          null,
          null,
          null,
          null,
          null,
          null,
          null,
          null,
          null,
          null,
          null,
          null,
          null,
          null,
          null,
          null,
          null,
          null,
          null,
          null,
          null,
          152348.953125,
          147157,
          135649.53125,
          106835.4765625,
          95922.1015625,
          77128.3203125,
          77575.6015625,
          75598.09375,
          85795.90625,
          101862.7578125,
          123296.9453125,
          118547.1796875,
          104090.171875,
          99896.0078125,
          97734.640625,
          107801.1953125,
          122595.125,
          140688.046875,
          151727.28125,
          145280.671875,
          152559.65625,
          149580.953125,
          155436.984375,
          159892.921875,
          165544.796875,
          169016.171875,
          138590.984375,
          109929.40625,
          97479.234375,
          83406.546875
         ],
         "yaxis": "y"
        }
       ],
       "layout": {
        "annotations": [
         {
          "font": {
           "size": 10
          },
          "showarrow": false,
          "text": "unique_id=1",
          "x": 0.5,
          "xanchor": "center",
          "xref": "paper",
          "y": 1,
          "yanchor": "bottom",
          "yref": "paper"
         },
         {
          "font": {
           "size": 10
          },
          "showarrow": false,
          "text": "Time [ds]",
          "x": 0.5,
          "xanchor": "center",
          "xref": "paper",
          "y": 0,
          "yanchor": "top",
          "yref": "paper",
          "yshift": -30
         },
         {
          "font": {
           "size": 10
          },
          "showarrow": false,
          "text": "Target [y]",
          "textangle": -90,
          "x": 0,
          "xanchor": "right",
          "xref": "paper",
          "xshift": -40,
          "y": 0.5,
          "yanchor": "middle",
          "yref": "paper"
         }
        ],
        "autosize": true,
        "font": {
         "size": 10
        },
        "height": 200,
        "margin": {
         "b": 50,
         "l": 60,
         "r": 10,
         "t": 20
        },
        "template": {
         "data": {
          "bar": [
           {
            "error_x": {
             "color": "#2a3f5f"
            },
            "error_y": {
             "color": "#2a3f5f"
            },
            "marker": {
             "line": {
              "color": "white",
              "width": 0.5
             },
             "pattern": {
              "fillmode": "overlay",
              "size": 10,
              "solidity": 0.2
             }
            },
            "type": "bar"
           }
          ],
          "barpolar": [
           {
            "marker": {
             "line": {
              "color": "white",
              "width": 0.5
             },
             "pattern": {
              "fillmode": "overlay",
              "size": 10,
              "solidity": 0.2
             }
            },
            "type": "barpolar"
           }
          ],
          "carpet": [
           {
            "aaxis": {
             "endlinecolor": "#2a3f5f",
             "gridcolor": "#C8D4E3",
             "linecolor": "#C8D4E3",
             "minorgridcolor": "#C8D4E3",
             "startlinecolor": "#2a3f5f"
            },
            "baxis": {
             "endlinecolor": "#2a3f5f",
             "gridcolor": "#C8D4E3",
             "linecolor": "#C8D4E3",
             "minorgridcolor": "#C8D4E3",
             "startlinecolor": "#2a3f5f"
            },
            "type": "carpet"
           }
          ],
          "choropleth": [
           {
            "colorbar": {
             "outlinewidth": 0,
             "ticks": ""
            },
            "type": "choropleth"
           }
          ],
          "contour": [
           {
            "colorbar": {
             "outlinewidth": 0,
             "ticks": ""
            },
            "colorscale": [
             [
              0,
              "#0d0887"
             ],
             [
              0.1111111111111111,
              "#46039f"
             ],
             [
              0.2222222222222222,
              "#7201a8"
             ],
             [
              0.3333333333333333,
              "#9c179e"
             ],
             [
              0.4444444444444444,
              "#bd3786"
             ],
             [
              0.5555555555555556,
              "#d8576b"
             ],
             [
              0.6666666666666666,
              "#ed7953"
             ],
             [
              0.7777777777777778,
              "#fb9f3a"
             ],
             [
              0.8888888888888888,
              "#fdca26"
             ],
             [
              1,
              "#f0f921"
             ]
            ],
            "type": "contour"
           }
          ],
          "contourcarpet": [
           {
            "colorbar": {
             "outlinewidth": 0,
             "ticks": ""
            },
            "type": "contourcarpet"
           }
          ],
          "heatmap": [
           {
            "colorbar": {
             "outlinewidth": 0,
             "ticks": ""
            },
            "colorscale": [
             [
              0,
              "#0d0887"
             ],
             [
              0.1111111111111111,
              "#46039f"
             ],
             [
              0.2222222222222222,
              "#7201a8"
             ],
             [
              0.3333333333333333,
              "#9c179e"
             ],
             [
              0.4444444444444444,
              "#bd3786"
             ],
             [
              0.5555555555555556,
              "#d8576b"
             ],
             [
              0.6666666666666666,
              "#ed7953"
             ],
             [
              0.7777777777777778,
              "#fb9f3a"
             ],
             [
              0.8888888888888888,
              "#fdca26"
             ],
             [
              1,
              "#f0f921"
             ]
            ],
            "type": "heatmap"
           }
          ],
          "heatmapgl": [
           {
            "colorbar": {
             "outlinewidth": 0,
             "ticks": ""
            },
            "colorscale": [
             [
              0,
              "#0d0887"
             ],
             [
              0.1111111111111111,
              "#46039f"
             ],
             [
              0.2222222222222222,
              "#7201a8"
             ],
             [
              0.3333333333333333,
              "#9c179e"
             ],
             [
              0.4444444444444444,
              "#bd3786"
             ],
             [
              0.5555555555555556,
              "#d8576b"
             ],
             [
              0.6666666666666666,
              "#ed7953"
             ],
             [
              0.7777777777777778,
              "#fb9f3a"
             ],
             [
              0.8888888888888888,
              "#fdca26"
             ],
             [
              1,
              "#f0f921"
             ]
            ],
            "type": "heatmapgl"
           }
          ],
          "histogram": [
           {
            "marker": {
             "pattern": {
              "fillmode": "overlay",
              "size": 10,
              "solidity": 0.2
             }
            },
            "type": "histogram"
           }
          ],
          "histogram2d": [
           {
            "colorbar": {
             "outlinewidth": 0,
             "ticks": ""
            },
            "colorscale": [
             [
              0,
              "#0d0887"
             ],
             [
              0.1111111111111111,
              "#46039f"
             ],
             [
              0.2222222222222222,
              "#7201a8"
             ],
             [
              0.3333333333333333,
              "#9c179e"
             ],
             [
              0.4444444444444444,
              "#bd3786"
             ],
             [
              0.5555555555555556,
              "#d8576b"
             ],
             [
              0.6666666666666666,
              "#ed7953"
             ],
             [
              0.7777777777777778,
              "#fb9f3a"
             ],
             [
              0.8888888888888888,
              "#fdca26"
             ],
             [
              1,
              "#f0f921"
             ]
            ],
            "type": "histogram2d"
           }
          ],
          "histogram2dcontour": [
           {
            "colorbar": {
             "outlinewidth": 0,
             "ticks": ""
            },
            "colorscale": [
             [
              0,
              "#0d0887"
             ],
             [
              0.1111111111111111,
              "#46039f"
             ],
             [
              0.2222222222222222,
              "#7201a8"
             ],
             [
              0.3333333333333333,
              "#9c179e"
             ],
             [
              0.4444444444444444,
              "#bd3786"
             ],
             [
              0.5555555555555556,
              "#d8576b"
             ],
             [
              0.6666666666666666,
              "#ed7953"
             ],
             [
              0.7777777777777778,
              "#fb9f3a"
             ],
             [
              0.8888888888888888,
              "#fdca26"
             ],
             [
              1,
              "#f0f921"
             ]
            ],
            "type": "histogram2dcontour"
           }
          ],
          "mesh3d": [
           {
            "colorbar": {
             "outlinewidth": 0,
             "ticks": ""
            },
            "type": "mesh3d"
           }
          ],
          "parcoords": [
           {
            "line": {
             "colorbar": {
              "outlinewidth": 0,
              "ticks": ""
             }
            },
            "type": "parcoords"
           }
          ],
          "pie": [
           {
            "automargin": true,
            "type": "pie"
           }
          ],
          "scatter": [
           {
            "fillpattern": {
             "fillmode": "overlay",
             "size": 10,
             "solidity": 0.2
            },
            "type": "scatter"
           }
          ],
          "scatter3d": [
           {
            "line": {
             "colorbar": {
              "outlinewidth": 0,
              "ticks": ""
             }
            },
            "marker": {
             "colorbar": {
              "outlinewidth": 0,
              "ticks": ""
             }
            },
            "type": "scatter3d"
           }
          ],
          "scattercarpet": [
           {
            "marker": {
             "colorbar": {
              "outlinewidth": 0,
              "ticks": ""
             }
            },
            "type": "scattercarpet"
           }
          ],
          "scattergeo": [
           {
            "marker": {
             "colorbar": {
              "outlinewidth": 0,
              "ticks": ""
             }
            },
            "type": "scattergeo"
           }
          ],
          "scattergl": [
           {
            "marker": {
             "colorbar": {
              "outlinewidth": 0,
              "ticks": ""
             }
            },
            "type": "scattergl"
           }
          ],
          "scattermapbox": [
           {
            "marker": {
             "colorbar": {
              "outlinewidth": 0,
              "ticks": ""
             }
            },
            "type": "scattermapbox"
           }
          ],
          "scatterpolar": [
           {
            "marker": {
             "colorbar": {
              "outlinewidth": 0,
              "ticks": ""
             }
            },
            "type": "scatterpolar"
           }
          ],
          "scatterpolargl": [
           {
            "marker": {
             "colorbar": {
              "outlinewidth": 0,
              "ticks": ""
             }
            },
            "type": "scatterpolargl"
           }
          ],
          "scatterternary": [
           {
            "marker": {
             "colorbar": {
              "outlinewidth": 0,
              "ticks": ""
             }
            },
            "type": "scatterternary"
           }
          ],
          "surface": [
           {
            "colorbar": {
             "outlinewidth": 0,
             "ticks": ""
            },
            "colorscale": [
             [
              0,
              "#0d0887"
             ],
             [
              0.1111111111111111,
              "#46039f"
             ],
             [
              0.2222222222222222,
              "#7201a8"
             ],
             [
              0.3333333333333333,
              "#9c179e"
             ],
             [
              0.4444444444444444,
              "#bd3786"
             ],
             [
              0.5555555555555556,
              "#d8576b"
             ],
             [
              0.6666666666666666,
              "#ed7953"
             ],
             [
              0.7777777777777778,
              "#fb9f3a"
             ],
             [
              0.8888888888888888,
              "#fdca26"
             ],
             [
              1,
              "#f0f921"
             ]
            ],
            "type": "surface"
           }
          ],
          "table": [
           {
            "cells": {
             "fill": {
              "color": "#EBF0F8"
             },
             "line": {
              "color": "white"
             }
            },
            "header": {
             "fill": {
              "color": "#C8D4E3"
             },
             "line": {
              "color": "white"
             }
            },
            "type": "table"
           }
          ]
         },
         "layout": {
          "annotationdefaults": {
           "arrowcolor": "#2a3f5f",
           "arrowhead": 0,
           "arrowwidth": 1
          },
          "autotypenumbers": "strict",
          "coloraxis": {
           "colorbar": {
            "outlinewidth": 0,
            "ticks": ""
           }
          },
          "colorscale": {
           "diverging": [
            [
             0,
             "#8e0152"
            ],
            [
             0.1,
             "#c51b7d"
            ],
            [
             0.2,
             "#de77ae"
            ],
            [
             0.3,
             "#f1b6da"
            ],
            [
             0.4,
             "#fde0ef"
            ],
            [
             0.5,
             "#f7f7f7"
            ],
            [
             0.6,
             "#e6f5d0"
            ],
            [
             0.7,
             "#b8e186"
            ],
            [
             0.8,
             "#7fbc41"
            ],
            [
             0.9,
             "#4d9221"
            ],
            [
             1,
             "#276419"
            ]
           ],
           "sequential": [
            [
             0,
             "#0d0887"
            ],
            [
             0.1111111111111111,
             "#46039f"
            ],
            [
             0.2222222222222222,
             "#7201a8"
            ],
            [
             0.3333333333333333,
             "#9c179e"
            ],
            [
             0.4444444444444444,
             "#bd3786"
            ],
            [
             0.5555555555555556,
             "#d8576b"
            ],
            [
             0.6666666666666666,
             "#ed7953"
            ],
            [
             0.7777777777777778,
             "#fb9f3a"
            ],
            [
             0.8888888888888888,
             "#fdca26"
            ],
            [
             1,
             "#f0f921"
            ]
           ],
           "sequentialminus": [
            [
             0,
             "#0d0887"
            ],
            [
             0.1111111111111111,
             "#46039f"
            ],
            [
             0.2222222222222222,
             "#7201a8"
            ],
            [
             0.3333333333333333,
             "#9c179e"
            ],
            [
             0.4444444444444444,
             "#bd3786"
            ],
            [
             0.5555555555555556,
             "#d8576b"
            ],
            [
             0.6666666666666666,
             "#ed7953"
            ],
            [
             0.7777777777777778,
             "#fb9f3a"
            ],
            [
             0.8888888888888888,
             "#fdca26"
            ],
            [
             1,
             "#f0f921"
            ]
           ]
          },
          "colorway": [
           "#636efa",
           "#EF553B",
           "#00cc96",
           "#ab63fa",
           "#FFA15A",
           "#19d3f3",
           "#FF6692",
           "#B6E880",
           "#FF97FF",
           "#FECB52"
          ],
          "font": {
           "color": "#2a3f5f"
          },
          "geo": {
           "bgcolor": "white",
           "lakecolor": "white",
           "landcolor": "white",
           "showlakes": true,
           "showland": true,
           "subunitcolor": "#C8D4E3"
          },
          "hoverlabel": {
           "align": "left"
          },
          "hovermode": "closest",
          "mapbox": {
           "style": "light"
          },
          "paper_bgcolor": "white",
          "plot_bgcolor": "white",
          "polar": {
           "angularaxis": {
            "gridcolor": "#EBF0F8",
            "linecolor": "#EBF0F8",
            "ticks": ""
           },
           "bgcolor": "white",
           "radialaxis": {
            "gridcolor": "#EBF0F8",
            "linecolor": "#EBF0F8",
            "ticks": ""
           }
          },
          "scene": {
           "xaxis": {
            "backgroundcolor": "white",
            "gridcolor": "#DFE8F3",
            "gridwidth": 2,
            "linecolor": "#EBF0F8",
            "showbackground": true,
            "ticks": "",
            "zerolinecolor": "#EBF0F8"
           },
           "yaxis": {
            "backgroundcolor": "white",
            "gridcolor": "#DFE8F3",
            "gridwidth": 2,
            "linecolor": "#EBF0F8",
            "showbackground": true,
            "ticks": "",
            "zerolinecolor": "#EBF0F8"
           },
           "zaxis": {
            "backgroundcolor": "white",
            "gridcolor": "#DFE8F3",
            "gridwidth": 2,
            "linecolor": "#EBF0F8",
            "showbackground": true,
            "ticks": "",
            "zerolinecolor": "#EBF0F8"
           }
          },
          "shapedefaults": {
           "line": {
            "color": "#2a3f5f"
           }
          },
          "ternary": {
           "aaxis": {
            "gridcolor": "#DFE8F3",
            "linecolor": "#A2B1C6",
            "ticks": ""
           },
           "baxis": {
            "gridcolor": "#DFE8F3",
            "linecolor": "#A2B1C6",
            "ticks": ""
           },
           "bgcolor": "white",
           "caxis": {
            "gridcolor": "#DFE8F3",
            "linecolor": "#A2B1C6",
            "ticks": ""
           }
          },
          "title": {
           "x": 0.05
          },
          "xaxis": {
           "automargin": true,
           "gridcolor": "#EBF0F8",
           "linecolor": "#EBF0F8",
           "ticks": "",
           "title": {
            "standoff": 15
           },
           "zerolinecolor": "#EBF0F8",
           "zerolinewidth": 2
          },
          "yaxis": {
           "automargin": true,
           "gridcolor": "#EBF0F8",
           "linecolor": "#EBF0F8",
           "ticks": "",
           "title": {
            "standoff": 15
           },
           "zerolinecolor": "#EBF0F8",
           "zerolinewidth": 2
          }
         }
        },
        "xaxis": {
         "anchor": "y",
         "domain": [
          0,
          1
         ],
         "showticklabels": true,
         "visible": true
        },
        "yaxis": {
         "anchor": "x",
         "domain": [
          0,
          1
         ]
        }
       }
      }
     },
     "metadata": {},
     "output_type": "display_data"
    }
   ],
   "source": [
    "plot_series(df, forecast1, max_insample_length= 100, engine= \"plotly\")"
   ]
  },
  {
   "attachments": {},
   "cell_type": "markdown",
   "metadata": {},
   "source": [
    "# **9. Evaluate the model** <a class=\"anchor\" id=\"9\"></a>\n",
    "\n",
    "[Table of Contents](#0.1)\n"
   ]
  },
  {
   "cell_type": "code",
   "execution_count": 26,
   "metadata": {},
   "outputs": [],
   "source": [
    "cv_ml4 = mlf.cross_validation(\n",
    "    train,\n",
    "    n_windows = 3,\n",
    "    h = 30,\n",
    "    static_features= [])"
   ]
  },
  {
   "cell_type": "code",
   "execution_count": 27,
   "metadata": {},
   "outputs": [],
   "source": [
    "from datasetsforecast.losses import mae, mape, mase, rmse, smape\n",
    "\n",
    "def evaluate_cross_validation(df, metric):\n",
    "    models = df.drop(columns=['ds', 'cutoff', 'y']).columns.tolist()\n",
    "    evals = []\n",
    "    for model in models:\n",
    "        eval_ = df.groupby(['unique_id', 'cutoff']).apply(lambda x: metric(x['y'].values, x[model].values)).to_frame() # Calculate loss for every unique_id, model and cutoff.\n",
    "        eval_.columns = [model]\n",
    "        evals.append(eval_)\n",
    "    evals = pd.concat(evals, axis=1)\n",
    "    evals = evals.groupby(['unique_id']).mean(numeric_only=True) # Averages the error metrics for all cutoffs for every combination of model and unique_id\n",
    "    evals['best_model'] = evals.idxmin(axis=1)\n",
    "    return evals"
   ]
  },
  {
   "cell_type": "code",
   "execution_count": 28,
   "metadata": {},
   "outputs": [
    {
     "data": {
      "text/html": [
       "<div>\n",
       "<style scoped>\n",
       "    .dataframe tbody tr th:only-of-type {\n",
       "        vertical-align: middle;\n",
       "    }\n",
       "\n",
       "    .dataframe tbody tr th {\n",
       "        vertical-align: top;\n",
       "    }\n",
       "\n",
       "    .dataframe thead th {\n",
       "        text-align: right;\n",
       "    }\n",
       "</style>\n",
       "<table border=\"1\" class=\"dataframe\">\n",
       "  <thead>\n",
       "    <tr style=\"text-align: right;\">\n",
       "      <th></th>\n",
       "      <th>ADR</th>\n",
       "      <th>BayeRidge</th>\n",
       "      <th>lr</th>\n",
       "      <th>best_model</th>\n",
       "    </tr>\n",
       "    <tr>\n",
       "      <th>unique_id</th>\n",
       "      <th></th>\n",
       "      <th></th>\n",
       "      <th></th>\n",
       "      <th></th>\n",
       "    </tr>\n",
       "  </thead>\n",
       "  <tbody>\n",
       "    <tr>\n",
       "      <th>1</th>\n",
       "      <td>18005.456461</td>\n",
       "      <td>17982.740786</td>\n",
       "      <td>18970.472742</td>\n",
       "      <td>BayeRidge</td>\n",
       "    </tr>\n",
       "  </tbody>\n",
       "</table>\n",
       "</div>"
      ],
      "text/plain": [
       "                    ADR     BayeRidge            lr best_model\n",
       "unique_id                                                     \n",
       "1          18005.456461  17982.740786  18970.472742  BayeRidge"
      ]
     },
     "execution_count": 28,
     "metadata": {},
     "output_type": "execute_result"
    }
   ],
   "source": [
    "evaluate_cross_validation(cv_ml4.set_index(\"unique_id\"), rmse)"
   ]
  },
  {
   "cell_type": "code",
   "execution_count": 29,
   "metadata": {},
   "outputs": [
    {
     "data": {
      "application/vnd.plotly.v1+json": {
       "config": {
        "plotlyServerURL": "https://plot.ly"
       },
       "data": [
        {
         "legendgroup": "y",
         "line": {
          "color": "#0000ff",
          "width": 1
         },
         "mode": "lines",
         "name": "y",
         "showlegend": true,
         "type": "scatter",
         "x": [
          "2017-09-17T20:00:00",
          "2017-09-17T21:00:00",
          "2017-09-17T22:00:00",
          "2017-09-17T23:00:00",
          "2017-09-18T00:00:00",
          "2017-09-18T01:00:00",
          "2017-09-18T02:00:00",
          "2017-09-18T03:00:00",
          "2017-09-18T04:00:00",
          "2017-09-18T05:00:00",
          "2017-09-18T06:00:00",
          "2017-09-18T07:00:00",
          "2017-09-18T08:00:00",
          "2017-09-18T09:00:00",
          "2017-09-18T10:00:00",
          "2017-09-18T11:00:00",
          "2017-09-18T12:00:00",
          "2017-09-18T13:00:00",
          "2017-09-18T14:00:00",
          "2017-09-18T15:00:00",
          "2017-09-18T16:00:00",
          "2017-09-18T17:00:00",
          "2017-09-18T18:00:00",
          "2017-09-18T19:00:00",
          "2017-09-18T20:00:00",
          "2017-09-18T21:00:00",
          "2017-09-18T22:00:00",
          "2017-09-18T23:00:00",
          "2017-09-19T00:00:00",
          "2017-09-19T01:00:00",
          "2017-09-19T02:00:00",
          "2017-09-19T03:00:00",
          "2017-09-19T04:00:00",
          "2017-09-19T05:00:00",
          "2017-09-19T06:00:00",
          "2017-09-19T07:00:00",
          "2017-09-19T08:00:00",
          "2017-09-19T09:00:00",
          "2017-09-19T10:00:00",
          "2017-09-19T11:00:00",
          "2017-09-19T12:00:00",
          "2017-09-19T13:00:00",
          "2017-09-19T14:00:00",
          "2017-09-19T15:00:00",
          "2017-09-19T16:00:00",
          "2017-09-19T17:00:00",
          "2017-09-19T18:00:00",
          "2017-09-19T19:00:00",
          "2017-09-19T20:00:00",
          "2017-09-19T21:00:00",
          "2017-09-19T22:00:00",
          "2017-09-19T23:00:00",
          "2017-09-20T00:00:00",
          "2017-09-20T01:00:00",
          "2017-09-20T02:00:00",
          "2017-09-20T03:00:00",
          "2017-09-20T04:00:00",
          "2017-09-20T05:00:00",
          "2017-09-20T06:00:00",
          "2017-09-20T07:00:00",
          "2017-09-20T08:00:00",
          "2017-09-20T09:00:00",
          "2017-09-20T10:00:00",
          "2017-09-20T11:00:00",
          "2017-09-20T12:00:00",
          "2017-09-20T13:00:00",
          "2017-09-20T14:00:00",
          "2017-09-20T15:00:00",
          "2017-09-20T16:00:00",
          "2017-09-20T17:00:00",
          "2017-09-20T18:00:00",
          "2017-09-20T19:00:00",
          "2017-09-20T20:00:00",
          "2017-09-20T21:00:00",
          "2017-09-20T22:00:00",
          "2017-09-20T23:00:00",
          "2017-09-21T00:00:00",
          "2017-09-21T01:00:00",
          "2017-09-21T02:00:00",
          "2017-09-21T03:00:00",
          "2017-09-21T04:00:00",
          "2017-09-21T05:00:00",
          "2017-09-21T06:00:00",
          "2017-09-21T07:00:00",
          "2017-09-21T08:00:00",
          "2017-09-21T09:00:00",
          "2017-09-21T10:00:00",
          "2017-09-21T11:00:00",
          "2017-09-21T12:00:00",
          "2017-09-21T13:00:00",
          "2017-09-21T14:00:00",
          "2017-09-21T15:00:00",
          "2017-09-21T16:00:00",
          "2017-09-21T17:00:00",
          "2017-09-21T18:00:00",
          "2017-09-21T19:00:00",
          "2017-09-21T20:00:00",
          "2017-09-21T21:00:00",
          "2017-09-21T22:00:00",
          "2017-09-21T23:00:00",
          "2017-09-20T18:00:00",
          "2017-09-20T19:00:00",
          "2017-09-20T20:00:00",
          "2017-09-20T21:00:00",
          "2017-09-20T22:00:00",
          "2017-09-20T23:00:00",
          "2017-09-21T00:00:00",
          "2017-09-21T01:00:00",
          "2017-09-21T02:00:00",
          "2017-09-21T03:00:00",
          "2017-09-21T04:00:00",
          "2017-09-21T05:00:00",
          "2017-09-21T06:00:00",
          "2017-09-21T07:00:00",
          "2017-09-21T08:00:00",
          "2017-09-21T09:00:00",
          "2017-09-21T10:00:00",
          "2017-09-21T11:00:00",
          "2017-09-21T12:00:00",
          "2017-09-21T13:00:00",
          "2017-09-21T14:00:00",
          "2017-09-21T15:00:00",
          "2017-09-21T16:00:00",
          "2017-09-21T17:00:00",
          "2017-09-21T18:00:00",
          "2017-09-21T19:00:00",
          "2017-09-21T20:00:00",
          "2017-09-21T21:00:00",
          "2017-09-21T22:00:00",
          "2017-09-21T23:00:00"
         ],
         "xaxis": "x",
         "y": [
          142710,
          112955,
          97345,
          81675,
          79510,
          78350,
          88045,
          99790,
          123780,
          111325,
          99440,
          97655,
          97655,
          102565,
          119930,
          135755,
          140120,
          141730,
          142220,
          145360,
          145335,
          150410,
          161520,
          153415,
          134720,
          107065,
          95045,
          79515,
          78335,
          74670,
          81990,
          97950,
          119345,
          113115,
          98880,
          94000,
          93660,
          104185,
          119750,
          135990,
          146455,
          139165,
          147225,
          144935,
          151370,
          156080,
          161385,
          165010,
          134090,
          105585,
          92855,
          79270,
          79980,
          78110,
          85785,
          100010,
          123880,
          116335,
          104290,
          101440,
          97635,
          108265,
          121250,
          140850,
          138555,
          140990,
          141525,
          141590,
          140610,
          139515,
          146215,
          142425,
          123945,
          101360,
          88170,
          76050,
          70335,
          72150,
          80195,
          94945,
          121910,
          113950,
          106495,
          97290,
          98860,
          105635,
          114380,
          132335,
          146630,
          141995,
          142815,
          146020,
          152120,
          151790,
          155665,
          155890,
          123395,
          103080,
          95155,
          80285,
          null,
          null,
          null,
          null,
          null,
          null,
          null,
          null,
          null,
          null,
          null,
          null,
          null,
          null,
          null,
          null,
          null,
          null,
          null,
          null,
          null,
          null,
          null,
          null,
          null,
          null,
          null,
          null,
          null,
          null
         ],
         "yaxis": "y"
        },
        {
         "legendgroup": "BayeRidge",
         "line": {
          "color": "#000000",
          "width": 1
         },
         "mode": "lines",
         "name": "BayeRidge",
         "showlegend": true,
         "type": "scatter",
         "x": [
          "2017-09-17T20:00:00",
          "2017-09-17T21:00:00",
          "2017-09-17T22:00:00",
          "2017-09-17T23:00:00",
          "2017-09-18T00:00:00",
          "2017-09-18T01:00:00",
          "2017-09-18T02:00:00",
          "2017-09-18T03:00:00",
          "2017-09-18T04:00:00",
          "2017-09-18T05:00:00",
          "2017-09-18T06:00:00",
          "2017-09-18T07:00:00",
          "2017-09-18T08:00:00",
          "2017-09-18T09:00:00",
          "2017-09-18T10:00:00",
          "2017-09-18T11:00:00",
          "2017-09-18T12:00:00",
          "2017-09-18T13:00:00",
          "2017-09-18T14:00:00",
          "2017-09-18T15:00:00",
          "2017-09-18T16:00:00",
          "2017-09-18T17:00:00",
          "2017-09-18T18:00:00",
          "2017-09-18T19:00:00",
          "2017-09-18T20:00:00",
          "2017-09-18T21:00:00",
          "2017-09-18T22:00:00",
          "2017-09-18T23:00:00",
          "2017-09-19T00:00:00",
          "2017-09-19T01:00:00",
          "2017-09-19T02:00:00",
          "2017-09-19T03:00:00",
          "2017-09-19T04:00:00",
          "2017-09-19T05:00:00",
          "2017-09-19T06:00:00",
          "2017-09-19T07:00:00",
          "2017-09-19T08:00:00",
          "2017-09-19T09:00:00",
          "2017-09-19T10:00:00",
          "2017-09-19T11:00:00",
          "2017-09-19T12:00:00",
          "2017-09-19T13:00:00",
          "2017-09-19T14:00:00",
          "2017-09-19T15:00:00",
          "2017-09-19T16:00:00",
          "2017-09-19T17:00:00",
          "2017-09-19T18:00:00",
          "2017-09-19T19:00:00",
          "2017-09-19T20:00:00",
          "2017-09-19T21:00:00",
          "2017-09-19T22:00:00",
          "2017-09-19T23:00:00",
          "2017-09-20T00:00:00",
          "2017-09-20T01:00:00",
          "2017-09-20T02:00:00",
          "2017-09-20T03:00:00",
          "2017-09-20T04:00:00",
          "2017-09-20T05:00:00",
          "2017-09-20T06:00:00",
          "2017-09-20T07:00:00",
          "2017-09-20T08:00:00",
          "2017-09-20T09:00:00",
          "2017-09-20T10:00:00",
          "2017-09-20T11:00:00",
          "2017-09-20T12:00:00",
          "2017-09-20T13:00:00",
          "2017-09-20T14:00:00",
          "2017-09-20T15:00:00",
          "2017-09-20T16:00:00",
          "2017-09-20T17:00:00",
          "2017-09-20T18:00:00",
          "2017-09-20T19:00:00",
          "2017-09-20T20:00:00",
          "2017-09-20T21:00:00",
          "2017-09-20T22:00:00",
          "2017-09-20T23:00:00",
          "2017-09-21T00:00:00",
          "2017-09-21T01:00:00",
          "2017-09-21T02:00:00",
          "2017-09-21T03:00:00",
          "2017-09-21T04:00:00",
          "2017-09-21T05:00:00",
          "2017-09-21T06:00:00",
          "2017-09-21T07:00:00",
          "2017-09-21T08:00:00",
          "2017-09-21T09:00:00",
          "2017-09-21T10:00:00",
          "2017-09-21T11:00:00",
          "2017-09-21T12:00:00",
          "2017-09-21T13:00:00",
          "2017-09-21T14:00:00",
          "2017-09-21T15:00:00",
          "2017-09-21T16:00:00",
          "2017-09-21T17:00:00",
          "2017-09-21T18:00:00",
          "2017-09-21T19:00:00",
          "2017-09-21T20:00:00",
          "2017-09-21T21:00:00",
          "2017-09-21T22:00:00",
          "2017-09-21T23:00:00",
          "2017-09-20T18:00:00",
          "2017-09-20T19:00:00",
          "2017-09-20T20:00:00",
          "2017-09-20T21:00:00",
          "2017-09-20T22:00:00",
          "2017-09-20T23:00:00",
          "2017-09-21T00:00:00",
          "2017-09-21T01:00:00",
          "2017-09-21T02:00:00",
          "2017-09-21T03:00:00",
          "2017-09-21T04:00:00",
          "2017-09-21T05:00:00",
          "2017-09-21T06:00:00",
          "2017-09-21T07:00:00",
          "2017-09-21T08:00:00",
          "2017-09-21T09:00:00",
          "2017-09-21T10:00:00",
          "2017-09-21T11:00:00",
          "2017-09-21T12:00:00",
          "2017-09-21T13:00:00",
          "2017-09-21T14:00:00",
          "2017-09-21T15:00:00",
          "2017-09-21T16:00:00",
          "2017-09-21T17:00:00",
          "2017-09-21T18:00:00",
          "2017-09-21T19:00:00",
          "2017-09-21T20:00:00",
          "2017-09-21T21:00:00",
          "2017-09-21T22:00:00",
          "2017-09-21T23:00:00"
         ],
         "xaxis": "x",
         "y": [
          null,
          null,
          null,
          null,
          null,
          null,
          null,
          null,
          null,
          null,
          null,
          null,
          null,
          null,
          null,
          null,
          null,
          null,
          null,
          null,
          null,
          null,
          null,
          null,
          null,
          null,
          null,
          null,
          null,
          null,
          null,
          null,
          null,
          null,
          null,
          null,
          null,
          null,
          null,
          null,
          null,
          null,
          null,
          null,
          null,
          null,
          null,
          null,
          null,
          null,
          null,
          null,
          null,
          null,
          null,
          null,
          null,
          null,
          null,
          null,
          null,
          null,
          null,
          null,
          null,
          null,
          null,
          null,
          null,
          null,
          null,
          null,
          null,
          null,
          null,
          null,
          null,
          null,
          null,
          null,
          null,
          null,
          null,
          null,
          null,
          null,
          null,
          null,
          null,
          null,
          null,
          null,
          null,
          null,
          null,
          null,
          null,
          null,
          null,
          null,
          151485.40625,
          145260.75,
          131044.3828125,
          103714.1640625,
          92920.3359375,
          75296.390625,
          75150.375,
          72343.515625,
          80699.6640625,
          97704.0859375,
          119732.125,
          114604.875,
          100841.21875,
          96314.4296875,
          95276.96875,
          105924.6015625,
          121527.75,
          138693.015625,
          149523.859375,
          142395.40625,
          150208.28125,
          147822.734375,
          154288.125,
          159077.484375,
          164517.484375,
          168148.125,
          137416.578125,
          108970.0546875,
          96328.546875,
          82615.4375
         ],
         "yaxis": "y"
        }
       ],
       "layout": {
        "annotations": [
         {
          "font": {
           "size": 10
          },
          "showarrow": false,
          "text": "unique_id=1",
          "x": 0.5,
          "xanchor": "center",
          "xref": "paper",
          "y": 1,
          "yanchor": "bottom",
          "yref": "paper"
         },
         {
          "font": {
           "size": 10
          },
          "showarrow": false,
          "text": "Time [ds]",
          "x": 0.5,
          "xanchor": "center",
          "xref": "paper",
          "y": 0,
          "yanchor": "top",
          "yref": "paper",
          "yshift": -30
         },
         {
          "font": {
           "size": 10
          },
          "showarrow": false,
          "text": "Target [y]",
          "textangle": -90,
          "x": 0,
          "xanchor": "right",
          "xref": "paper",
          "xshift": -40,
          "y": 0.5,
          "yanchor": "middle",
          "yref": "paper"
         }
        ],
        "autosize": true,
        "font": {
         "size": 10
        },
        "height": 200,
        "margin": {
         "b": 50,
         "l": 60,
         "r": 10,
         "t": 20
        },
        "template": {
         "data": {
          "bar": [
           {
            "error_x": {
             "color": "#2a3f5f"
            },
            "error_y": {
             "color": "#2a3f5f"
            },
            "marker": {
             "line": {
              "color": "white",
              "width": 0.5
             },
             "pattern": {
              "fillmode": "overlay",
              "size": 10,
              "solidity": 0.2
             }
            },
            "type": "bar"
           }
          ],
          "barpolar": [
           {
            "marker": {
             "line": {
              "color": "white",
              "width": 0.5
             },
             "pattern": {
              "fillmode": "overlay",
              "size": 10,
              "solidity": 0.2
             }
            },
            "type": "barpolar"
           }
          ],
          "carpet": [
           {
            "aaxis": {
             "endlinecolor": "#2a3f5f",
             "gridcolor": "#C8D4E3",
             "linecolor": "#C8D4E3",
             "minorgridcolor": "#C8D4E3",
             "startlinecolor": "#2a3f5f"
            },
            "baxis": {
             "endlinecolor": "#2a3f5f",
             "gridcolor": "#C8D4E3",
             "linecolor": "#C8D4E3",
             "minorgridcolor": "#C8D4E3",
             "startlinecolor": "#2a3f5f"
            },
            "type": "carpet"
           }
          ],
          "choropleth": [
           {
            "colorbar": {
             "outlinewidth": 0,
             "ticks": ""
            },
            "type": "choropleth"
           }
          ],
          "contour": [
           {
            "colorbar": {
             "outlinewidth": 0,
             "ticks": ""
            },
            "colorscale": [
             [
              0,
              "#0d0887"
             ],
             [
              0.1111111111111111,
              "#46039f"
             ],
             [
              0.2222222222222222,
              "#7201a8"
             ],
             [
              0.3333333333333333,
              "#9c179e"
             ],
             [
              0.4444444444444444,
              "#bd3786"
             ],
             [
              0.5555555555555556,
              "#d8576b"
             ],
             [
              0.6666666666666666,
              "#ed7953"
             ],
             [
              0.7777777777777778,
              "#fb9f3a"
             ],
             [
              0.8888888888888888,
              "#fdca26"
             ],
             [
              1,
              "#f0f921"
             ]
            ],
            "type": "contour"
           }
          ],
          "contourcarpet": [
           {
            "colorbar": {
             "outlinewidth": 0,
             "ticks": ""
            },
            "type": "contourcarpet"
           }
          ],
          "heatmap": [
           {
            "colorbar": {
             "outlinewidth": 0,
             "ticks": ""
            },
            "colorscale": [
             [
              0,
              "#0d0887"
             ],
             [
              0.1111111111111111,
              "#46039f"
             ],
             [
              0.2222222222222222,
              "#7201a8"
             ],
             [
              0.3333333333333333,
              "#9c179e"
             ],
             [
              0.4444444444444444,
              "#bd3786"
             ],
             [
              0.5555555555555556,
              "#d8576b"
             ],
             [
              0.6666666666666666,
              "#ed7953"
             ],
             [
              0.7777777777777778,
              "#fb9f3a"
             ],
             [
              0.8888888888888888,
              "#fdca26"
             ],
             [
              1,
              "#f0f921"
             ]
            ],
            "type": "heatmap"
           }
          ],
          "heatmapgl": [
           {
            "colorbar": {
             "outlinewidth": 0,
             "ticks": ""
            },
            "colorscale": [
             [
              0,
              "#0d0887"
             ],
             [
              0.1111111111111111,
              "#46039f"
             ],
             [
              0.2222222222222222,
              "#7201a8"
             ],
             [
              0.3333333333333333,
              "#9c179e"
             ],
             [
              0.4444444444444444,
              "#bd3786"
             ],
             [
              0.5555555555555556,
              "#d8576b"
             ],
             [
              0.6666666666666666,
              "#ed7953"
             ],
             [
              0.7777777777777778,
              "#fb9f3a"
             ],
             [
              0.8888888888888888,
              "#fdca26"
             ],
             [
              1,
              "#f0f921"
             ]
            ],
            "type": "heatmapgl"
           }
          ],
          "histogram": [
           {
            "marker": {
             "pattern": {
              "fillmode": "overlay",
              "size": 10,
              "solidity": 0.2
             }
            },
            "type": "histogram"
           }
          ],
          "histogram2d": [
           {
            "colorbar": {
             "outlinewidth": 0,
             "ticks": ""
            },
            "colorscale": [
             [
              0,
              "#0d0887"
             ],
             [
              0.1111111111111111,
              "#46039f"
             ],
             [
              0.2222222222222222,
              "#7201a8"
             ],
             [
              0.3333333333333333,
              "#9c179e"
             ],
             [
              0.4444444444444444,
              "#bd3786"
             ],
             [
              0.5555555555555556,
              "#d8576b"
             ],
             [
              0.6666666666666666,
              "#ed7953"
             ],
             [
              0.7777777777777778,
              "#fb9f3a"
             ],
             [
              0.8888888888888888,
              "#fdca26"
             ],
             [
              1,
              "#f0f921"
             ]
            ],
            "type": "histogram2d"
           }
          ],
          "histogram2dcontour": [
           {
            "colorbar": {
             "outlinewidth": 0,
             "ticks": ""
            },
            "colorscale": [
             [
              0,
              "#0d0887"
             ],
             [
              0.1111111111111111,
              "#46039f"
             ],
             [
              0.2222222222222222,
              "#7201a8"
             ],
             [
              0.3333333333333333,
              "#9c179e"
             ],
             [
              0.4444444444444444,
              "#bd3786"
             ],
             [
              0.5555555555555556,
              "#d8576b"
             ],
             [
              0.6666666666666666,
              "#ed7953"
             ],
             [
              0.7777777777777778,
              "#fb9f3a"
             ],
             [
              0.8888888888888888,
              "#fdca26"
             ],
             [
              1,
              "#f0f921"
             ]
            ],
            "type": "histogram2dcontour"
           }
          ],
          "mesh3d": [
           {
            "colorbar": {
             "outlinewidth": 0,
             "ticks": ""
            },
            "type": "mesh3d"
           }
          ],
          "parcoords": [
           {
            "line": {
             "colorbar": {
              "outlinewidth": 0,
              "ticks": ""
             }
            },
            "type": "parcoords"
           }
          ],
          "pie": [
           {
            "automargin": true,
            "type": "pie"
           }
          ],
          "scatter": [
           {
            "fillpattern": {
             "fillmode": "overlay",
             "size": 10,
             "solidity": 0.2
            },
            "type": "scatter"
           }
          ],
          "scatter3d": [
           {
            "line": {
             "colorbar": {
              "outlinewidth": 0,
              "ticks": ""
             }
            },
            "marker": {
             "colorbar": {
              "outlinewidth": 0,
              "ticks": ""
             }
            },
            "type": "scatter3d"
           }
          ],
          "scattercarpet": [
           {
            "marker": {
             "colorbar": {
              "outlinewidth": 0,
              "ticks": ""
             }
            },
            "type": "scattercarpet"
           }
          ],
          "scattergeo": [
           {
            "marker": {
             "colorbar": {
              "outlinewidth": 0,
              "ticks": ""
             }
            },
            "type": "scattergeo"
           }
          ],
          "scattergl": [
           {
            "marker": {
             "colorbar": {
              "outlinewidth": 0,
              "ticks": ""
             }
            },
            "type": "scattergl"
           }
          ],
          "scattermapbox": [
           {
            "marker": {
             "colorbar": {
              "outlinewidth": 0,
              "ticks": ""
             }
            },
            "type": "scattermapbox"
           }
          ],
          "scatterpolar": [
           {
            "marker": {
             "colorbar": {
              "outlinewidth": 0,
              "ticks": ""
             }
            },
            "type": "scatterpolar"
           }
          ],
          "scatterpolargl": [
           {
            "marker": {
             "colorbar": {
              "outlinewidth": 0,
              "ticks": ""
             }
            },
            "type": "scatterpolargl"
           }
          ],
          "scatterternary": [
           {
            "marker": {
             "colorbar": {
              "outlinewidth": 0,
              "ticks": ""
             }
            },
            "type": "scatterternary"
           }
          ],
          "surface": [
           {
            "colorbar": {
             "outlinewidth": 0,
             "ticks": ""
            },
            "colorscale": [
             [
              0,
              "#0d0887"
             ],
             [
              0.1111111111111111,
              "#46039f"
             ],
             [
              0.2222222222222222,
              "#7201a8"
             ],
             [
              0.3333333333333333,
              "#9c179e"
             ],
             [
              0.4444444444444444,
              "#bd3786"
             ],
             [
              0.5555555555555556,
              "#d8576b"
             ],
             [
              0.6666666666666666,
              "#ed7953"
             ],
             [
              0.7777777777777778,
              "#fb9f3a"
             ],
             [
              0.8888888888888888,
              "#fdca26"
             ],
             [
              1,
              "#f0f921"
             ]
            ],
            "type": "surface"
           }
          ],
          "table": [
           {
            "cells": {
             "fill": {
              "color": "#EBF0F8"
             },
             "line": {
              "color": "white"
             }
            },
            "header": {
             "fill": {
              "color": "#C8D4E3"
             },
             "line": {
              "color": "white"
             }
            },
            "type": "table"
           }
          ]
         },
         "layout": {
          "annotationdefaults": {
           "arrowcolor": "#2a3f5f",
           "arrowhead": 0,
           "arrowwidth": 1
          },
          "autotypenumbers": "strict",
          "coloraxis": {
           "colorbar": {
            "outlinewidth": 0,
            "ticks": ""
           }
          },
          "colorscale": {
           "diverging": [
            [
             0,
             "#8e0152"
            ],
            [
             0.1,
             "#c51b7d"
            ],
            [
             0.2,
             "#de77ae"
            ],
            [
             0.3,
             "#f1b6da"
            ],
            [
             0.4,
             "#fde0ef"
            ],
            [
             0.5,
             "#f7f7f7"
            ],
            [
             0.6,
             "#e6f5d0"
            ],
            [
             0.7,
             "#b8e186"
            ],
            [
             0.8,
             "#7fbc41"
            ],
            [
             0.9,
             "#4d9221"
            ],
            [
             1,
             "#276419"
            ]
           ],
           "sequential": [
            [
             0,
             "#0d0887"
            ],
            [
             0.1111111111111111,
             "#46039f"
            ],
            [
             0.2222222222222222,
             "#7201a8"
            ],
            [
             0.3333333333333333,
             "#9c179e"
            ],
            [
             0.4444444444444444,
             "#bd3786"
            ],
            [
             0.5555555555555556,
             "#d8576b"
            ],
            [
             0.6666666666666666,
             "#ed7953"
            ],
            [
             0.7777777777777778,
             "#fb9f3a"
            ],
            [
             0.8888888888888888,
             "#fdca26"
            ],
            [
             1,
             "#f0f921"
            ]
           ],
           "sequentialminus": [
            [
             0,
             "#0d0887"
            ],
            [
             0.1111111111111111,
             "#46039f"
            ],
            [
             0.2222222222222222,
             "#7201a8"
            ],
            [
             0.3333333333333333,
             "#9c179e"
            ],
            [
             0.4444444444444444,
             "#bd3786"
            ],
            [
             0.5555555555555556,
             "#d8576b"
            ],
            [
             0.6666666666666666,
             "#ed7953"
            ],
            [
             0.7777777777777778,
             "#fb9f3a"
            ],
            [
             0.8888888888888888,
             "#fdca26"
            ],
            [
             1,
             "#f0f921"
            ]
           ]
          },
          "colorway": [
           "#636efa",
           "#EF553B",
           "#00cc96",
           "#ab63fa",
           "#FFA15A",
           "#19d3f3",
           "#FF6692",
           "#B6E880",
           "#FF97FF",
           "#FECB52"
          ],
          "font": {
           "color": "#2a3f5f"
          },
          "geo": {
           "bgcolor": "white",
           "lakecolor": "white",
           "landcolor": "white",
           "showlakes": true,
           "showland": true,
           "subunitcolor": "#C8D4E3"
          },
          "hoverlabel": {
           "align": "left"
          },
          "hovermode": "closest",
          "mapbox": {
           "style": "light"
          },
          "paper_bgcolor": "white",
          "plot_bgcolor": "white",
          "polar": {
           "angularaxis": {
            "gridcolor": "#EBF0F8",
            "linecolor": "#EBF0F8",
            "ticks": ""
           },
           "bgcolor": "white",
           "radialaxis": {
            "gridcolor": "#EBF0F8",
            "linecolor": "#EBF0F8",
            "ticks": ""
           }
          },
          "scene": {
           "xaxis": {
            "backgroundcolor": "white",
            "gridcolor": "#DFE8F3",
            "gridwidth": 2,
            "linecolor": "#EBF0F8",
            "showbackground": true,
            "ticks": "",
            "zerolinecolor": "#EBF0F8"
           },
           "yaxis": {
            "backgroundcolor": "white",
            "gridcolor": "#DFE8F3",
            "gridwidth": 2,
            "linecolor": "#EBF0F8",
            "showbackground": true,
            "ticks": "",
            "zerolinecolor": "#EBF0F8"
           },
           "zaxis": {
            "backgroundcolor": "white",
            "gridcolor": "#DFE8F3",
            "gridwidth": 2,
            "linecolor": "#EBF0F8",
            "showbackground": true,
            "ticks": "",
            "zerolinecolor": "#EBF0F8"
           }
          },
          "shapedefaults": {
           "line": {
            "color": "#2a3f5f"
           }
          },
          "ternary": {
           "aaxis": {
            "gridcolor": "#DFE8F3",
            "linecolor": "#A2B1C6",
            "ticks": ""
           },
           "baxis": {
            "gridcolor": "#DFE8F3",
            "linecolor": "#A2B1C6",
            "ticks": ""
           },
           "bgcolor": "white",
           "caxis": {
            "gridcolor": "#DFE8F3",
            "linecolor": "#A2B1C6",
            "ticks": ""
           }
          },
          "title": {
           "x": 0.05
          },
          "xaxis": {
           "automargin": true,
           "gridcolor": "#EBF0F8",
           "linecolor": "#EBF0F8",
           "ticks": "",
           "title": {
            "standoff": 15
           },
           "zerolinecolor": "#EBF0F8",
           "zerolinewidth": 2
          },
          "yaxis": {
           "automargin": true,
           "gridcolor": "#EBF0F8",
           "linecolor": "#EBF0F8",
           "ticks": "",
           "title": {
            "standoff": 15
           },
           "zerolinecolor": "#EBF0F8",
           "zerolinewidth": 2
          }
         }
        },
        "xaxis": {
         "anchor": "y",
         "domain": [
          0,
          1
         ],
         "showticklabels": true,
         "visible": true
        },
        "yaxis": {
         "anchor": "x",
         "domain": [
          0,
          1
         ]
        }
       }
      }
     },
     "metadata": {},
     "output_type": "display_data"
    }
   ],
   "source": [
    "plot_series(df, forecast1, max_insample_length= 100, engine= \"plotly\",  models = [\"BayeRidge\"])"
   ]
  },
  {
   "cell_type": "code",
   "execution_count": 30,
   "metadata": {},
   "outputs": [
    {
     "data": {
      "image/png": "[encoded data removed]",
      "text/plain": [
       "<Figure size 1280x280 with 1 Axes>"
      ]
     },
     "execution_count": 30,
     "metadata": {},
     "output_type": "execute_result"
    }
   ],
   "source": [
    "plot_series(df, forecast1, max_insample_length= 100,   models = [\"ADR\"])"
   ]
  },
  {
   "cell_type": "code",
   "execution_count": 31,
   "metadata": {},
   "outputs": [
    {
     "data": {
      "image/png": "[encoded data removed]",
      "text/plain": [
       "<Figure size 1280x280 with 1 Axes>"
      ]
     },
     "execution_count": 31,
     "metadata": {},
     "output_type": "execute_result"
    }
   ],
   "source": [
    "plot_series(df, forecast1, max_insample_length= 100,   models = [\"lr\"])"
   ]
  },
  {
   "attachments": {},
   "cell_type": "markdown",
   "metadata": {},
   "source": [
    "# Modificando el Modelo y agregando Pipeline\n",
    "\n",
    "Agregamos un polinomio de 2do grado al modelo"
   ]
  },
  {
   "cell_type": "code",
   "execution_count": 10,
   "metadata": {},
   "outputs": [],
   "source": [
    "from sklearn.pipeline import make_pipeline\n",
    "from sklearn.preprocessing import PolynomialFeatures"
   ]
  },
  {
   "cell_type": "code",
   "execution_count": 11,
   "metadata": {},
   "outputs": [],
   "source": [
    "ard_poly = make_pipeline(\n",
    "    PolynomialFeatures(),\n",
    "    ARDRegression(),\n",
    ")\n",
    "brr_poly = make_pipeline(\n",
    "    PolynomialFeatures(),\n",
    "\n",
    "    BayesianRidge(),\n",
    ")\n"
   ]
  },
  {
   "cell_type": "code",
   "execution_count": 12,
   "metadata": {},
   "outputs": [],
   "source": [
    "mlf = MLForecast(models = [ard_poly, brr_poly],\n",
    "                 freq = 'H',\n",
    "                 lags = range(1,14,1),\n",
    "                 lag_transforms={\n",
    "        1: [\n",
    "            ExponentiallyWeightedMean(alpha=0.5),\n",
    "            RollingMean(window_size=2),\n",
    "            RollingMean(window_size=4),\n",
    "            RollingMean(window_size=6),\n",
    "            RollingMean(window_size=12),\n",
    "            RollingQuantile(window_size=2, p=0.5),\n",
    "            RollingQuantile(window_size=4, p=0.5),\n",
    "            RollingQuantile(window_size=6, p=0.5),\n",
    "            RollingStd(window_size=2),\n",
    "            RollingStd(window_size=4)\n",
    "        ],},\n",
    "                 target_transforms=[Differences([48]),  LocalStandardScaler()], # LocalStandardScaler() LocalRobustScaler(scale='iqr')  Differences([1]),\n",
    "                 #date_features=[\"year\", \"month\", \"day\"],\n",
    "                 num_threads = 32)"
   ]
  },
  {
   "cell_type": "code",
   "execution_count": 13,
   "metadata": {},
   "outputs": [
    {
     "data": {
      "text/plain": [
       "MLForecast(models=[ARDRegression, BayesianRidge], freq=H, lag_features=['lag1', 'lag2', 'lag3', 'lag4', 'lag5', 'lag6', 'lag7', 'lag8', 'lag9', 'lag10', 'lag11', 'lag12', 'lag13', 'exponentially_weighted_mean_lag1_alpha0.5', 'rolling_mean_lag1_window_size2', 'rolling_mean_lag1_window_size4', 'rolling_mean_lag1_window_size6', 'rolling_mean_lag1_window_size12', 'rolling_quantile_lag1_p0.5_window_size2', 'rolling_quantile_lag1_p0.5_window_size4', 'rolling_quantile_lag1_p0.5_window_size6', 'rolling_std_lag1_window_size2', 'rolling_std_lag1_window_size4'], date_features=[], num_threads=32)"
      ]
     },
     "execution_count": 13,
     "metadata": {},
     "output_type": "execute_result"
    }
   ],
   "source": [
    "# fit the models\n",
    "mlf.fit(train,  fitted = True, static_features= [], )"
   ]
  },
  {
   "cell_type": "code",
   "execution_count": 14,
   "metadata": {},
   "outputs": [
    {
     "data": {
      "text/html": [
       "<div>\n",
       "<style scoped>\n",
       "    .dataframe tbody tr th:only-of-type {\n",
       "        vertical-align: middle;\n",
       "    }\n",
       "\n",
       "    .dataframe tbody tr th {\n",
       "        vertical-align: top;\n",
       "    }\n",
       "\n",
       "    .dataframe thead th {\n",
       "        text-align: right;\n",
       "    }\n",
       "</style>\n",
       "<table border=\"1\" class=\"dataframe\">\n",
       "  <thead>\n",
       "    <tr style=\"text-align: right;\">\n",
       "      <th></th>\n",
       "      <th>unique_id</th>\n",
       "      <th>ds</th>\n",
       "      <th>ARDRegression</th>\n",
       "      <th>BayesianRidge</th>\n",
       "    </tr>\n",
       "  </thead>\n",
       "  <tbody>\n",
       "    <tr>\n",
       "      <th>0</th>\n",
       "      <td>1</td>\n",
       "      <td>2017-09-20 18:00:00</td>\n",
       "      <td>156387.593750</td>\n",
       "      <td>156098.843750</td>\n",
       "    </tr>\n",
       "    <tr>\n",
       "      <th>1</th>\n",
       "      <td>1</td>\n",
       "      <td>2017-09-20 19:00:00</td>\n",
       "      <td>148332.328125</td>\n",
       "      <td>150493.734375</td>\n",
       "    </tr>\n",
       "    <tr>\n",
       "      <th>2</th>\n",
       "      <td>1</td>\n",
       "      <td>2017-09-20 20:00:00</td>\n",
       "      <td>133464.953125</td>\n",
       "      <td>133596.531250</td>\n",
       "    </tr>\n",
       "    <tr>\n",
       "      <th>3</th>\n",
       "      <td>1</td>\n",
       "      <td>2017-09-20 21:00:00</td>\n",
       "      <td>104331.687500</td>\n",
       "      <td>105830.460938</td>\n",
       "    </tr>\n",
       "    <tr>\n",
       "      <th>4</th>\n",
       "      <td>1</td>\n",
       "      <td>2017-09-20 22:00:00</td>\n",
       "      <td>95177.929688</td>\n",
       "      <td>93949.593750</td>\n",
       "    </tr>\n",
       "  </tbody>\n",
       "</table>\n",
       "</div>"
      ],
      "text/plain": [
       "  unique_id                  ds  ARDRegression  BayesianRidge\n",
       "0         1 2017-09-20 18:00:00  156387.593750  156098.843750\n",
       "1         1 2017-09-20 19:00:00  148332.328125  150493.734375\n",
       "2         1 2017-09-20 20:00:00  133464.953125  133596.531250\n",
       "3         1 2017-09-20 21:00:00  104331.687500  105830.460938\n",
       "4         1 2017-09-20 22:00:00   95177.929688   93949.593750"
      ]
     },
     "execution_count": 14,
     "metadata": {},
     "output_type": "execute_result"
    }
   ],
   "source": [
    "forecast2 = mlf.predict(h = 30) #\n",
    "forecast2.head()"
   ]
  },
  {
   "cell_type": "code",
   "execution_count": 15,
   "metadata": {},
   "outputs": [
    {
     "data": {
      "image/png": "[encoded data removed]",
      "text/plain": [
       "<Figure size 1280x280 with 1 Axes>"
      ]
     },
     "execution_count": 15,
     "metadata": {},
     "output_type": "execute_result"
    }
   ],
   "source": [
    "plot_series(df, forecast2, max_insample_length= 100, )"
   ]
  },
  {
   "cell_type": "code",
   "execution_count": 17,
   "metadata": {},
   "outputs": [
    {
     "data": {
      "text/html": [
       "<div>\n",
       "<style scoped>\n",
       "    .dataframe tbody tr th:only-of-type {\n",
       "        vertical-align: middle;\n",
       "    }\n",
       "\n",
       "    .dataframe tbody tr th {\n",
       "        vertical-align: top;\n",
       "    }\n",
       "\n",
       "    .dataframe thead th {\n",
       "        text-align: right;\n",
       "    }\n",
       "</style>\n",
       "<table border=\"1\" class=\"dataframe\">\n",
       "  <thead>\n",
       "    <tr style=\"text-align: right;\">\n",
       "      <th></th>\n",
       "      <th>ds</th>\n",
       "      <th>y</th>\n",
       "      <th>unique_id</th>\n",
       "    </tr>\n",
       "  </thead>\n",
       "  <tbody>\n",
       "    <tr>\n",
       "      <th>0</th>\n",
       "      <td>2017-09-13 00:00:00</td>\n",
       "      <td>80115</td>\n",
       "      <td>1</td>\n",
       "    </tr>\n",
       "    <tr>\n",
       "      <th>1</th>\n",
       "      <td>2017-09-13 01:00:00</td>\n",
       "      <td>79885</td>\n",
       "      <td>1</td>\n",
       "    </tr>\n",
       "    <tr>\n",
       "      <th>2</th>\n",
       "      <td>2017-09-13 02:00:00</td>\n",
       "      <td>89325</td>\n",
       "      <td>1</td>\n",
       "    </tr>\n",
       "    <tr>\n",
       "      <th>3</th>\n",
       "      <td>2017-09-13 03:00:00</td>\n",
       "      <td>101930</td>\n",
       "      <td>1</td>\n",
       "    </tr>\n",
       "    <tr>\n",
       "      <th>4</th>\n",
       "      <td>2017-09-13 04:00:00</td>\n",
       "      <td>121630</td>\n",
       "      <td>1</td>\n",
       "    </tr>\n",
       "    <tr>\n",
       "      <th>...</th>\n",
       "      <td>...</td>\n",
       "      <td>...</td>\n",
       "      <td>...</td>\n",
       "    </tr>\n",
       "    <tr>\n",
       "      <th>181</th>\n",
       "      <td>2017-09-20 13:00:00</td>\n",
       "      <td>140990</td>\n",
       "      <td>1</td>\n",
       "    </tr>\n",
       "    <tr>\n",
       "      <th>182</th>\n",
       "      <td>2017-09-20 14:00:00</td>\n",
       "      <td>141525</td>\n",
       "      <td>1</td>\n",
       "    </tr>\n",
       "    <tr>\n",
       "      <th>183</th>\n",
       "      <td>2017-09-20 15:00:00</td>\n",
       "      <td>141590</td>\n",
       "      <td>1</td>\n",
       "    </tr>\n",
       "    <tr>\n",
       "      <th>184</th>\n",
       "      <td>2017-09-20 16:00:00</td>\n",
       "      <td>140610</td>\n",
       "      <td>1</td>\n",
       "    </tr>\n",
       "    <tr>\n",
       "      <th>185</th>\n",
       "      <td>2017-09-20 17:00:00</td>\n",
       "      <td>139515</td>\n",
       "      <td>1</td>\n",
       "    </tr>\n",
       "  </tbody>\n",
       "</table>\n",
       "<p>186 rows × 3 columns</p>\n",
       "</div>"
      ],
      "text/plain": [
       "                     ds       y unique_id\n",
       "0   2017-09-13 00:00:00   80115         1\n",
       "1   2017-09-13 01:00:00   79885         1\n",
       "2   2017-09-13 02:00:00   89325         1\n",
       "3   2017-09-13 03:00:00  101930         1\n",
       "4   2017-09-13 04:00:00  121630         1\n",
       "..                  ...     ...       ...\n",
       "181 2017-09-20 13:00:00  140990         1\n",
       "182 2017-09-20 14:00:00  141525         1\n",
       "183 2017-09-20 15:00:00  141590         1\n",
       "184 2017-09-20 16:00:00  140610         1\n",
       "185 2017-09-20 17:00:00  139515         1\n",
       "\n",
       "[186 rows x 3 columns]"
      ]
     },
     "execution_count": 17,
     "metadata": {},
     "output_type": "execute_result"
    }
   ],
   "source": [
    "train"
   ]
  },
  {
   "cell_type": "code",
   "execution_count": null,
   "metadata": {},
   "outputs": [],
   "source": [
    "cv_ml4 = mlf.cross_validation(\n",
    "    train,\n",
    "    n_windows = 3,\n",
    "    h = 30,\n",
    "    static_features= [])"
   ]
  },
  {
   "cell_type": "code",
   "execution_count": null,
   "metadata": {},
   "outputs": [],
   "source": [
    "evaluate_cross_validation(cv_ml4.set_index(\"unique_id\"), rmse)"
   ]
  },
  {
   "attachments": {},
   "cell_type": "markdown",
   "metadata": {},
   "source": [
    "# **10. Conclusion** <a class=\"anchor\" id=\"10\"></a>\n",
    "\n",
    "[Table of Contents](#0.1)\n",
    "\n",
    "Análisis de los resultados:\n",
    "\n",
    "Comparando los resultados obtenidos del modelo TBATS y ARIMA para el pronóstico de anuncios vistos, podemos observar las siguientes métricas de rendimiento:\n",
    "\n",
    "1. MASE (Mean Absolute Scaled Error): El valor de MASE para el modelo TBATS es de 0.967511, mientras que para el modelo ARIMA es de 3.572169. El MASE compara el error del modelo con el error de un modelo ingenuo (como la media o el último valor observado). Un valor de MASE cercano a 1 indica que el modelo es bueno en comparación con el modelo ingenuo. En este caso, el modelo TBATS tiene un MASE más cercano a 1, lo que indica que es mejor que el modelo ARIMA en términos de precisión.\n",
    "\n",
    "2. MAE (Mean Absolute Error): El valor de MAE para el modelo TBATS es de 7830.810938, mientras que para el modelo ARIMA es de 28912.299479. El MAE representa el promedio de las diferencias absolutas entre las predicciones y los valores reales. Un valor de MAE más bajo indica una menor discrepancia entre las predicciones y los valores reales. En este caso, el modelo TBATS tiene un MAE considerablemente más bajo en comparación con el modelo ARIMA, lo que indica una mayor precisión en las predicciones.\n",
    "\n",
    "3. MAPE (Mean Absolute Percentage Error): El valor de MAPE para el modelo TBATS es de 6.419353, mientras que para el modelo ARIMA es de 30.988134. El MAPE representa el porcentaje promedio de error en relación con los valores reales. Un valor de MAPE más bajo indica una menor proporción de error en las predicciones. En este caso, el modelo TBATS tiene un MAPE significativamente más bajo que el modelo ARIMA, lo que indica una mejor precisión en las predicciones.\n",
    "\n",
    "4. RMSE (Root Mean Squared Error): El valor de RMSE para el modelo TBATS es de 9716.096391, mientras que para el modelo ARIMA es de 35275.912514. El RMSE representa la raíz cuadrada del promedio de los errores al cuadrado. Un valor de RMSE más bajo indica una menor dispersión de los errores y, por lo tanto, una mayor precisión en las predicciones. En este caso, el modelo TBATS tiene un RMSE considerablemente más bajo en comparación con el modelo ARIMA, lo que indica una mayor precisión en las predicciones.\n",
    "\n",
    "5. SMAPE (Symmetric Mean Absolute Percentage Error): El valor de SMAPE para el modelo TBATS es de 6.716095, mientras que para el modelo ARIMA es de 24.641293. El SMAPE representa el promedio de las diferencias porcentuales absolutas entre las predicciones y los valores reales. Un valor de SMAPE más bajo indica una menor proporción de error en las predicciones. En este caso, el modelo TBATS tiene un SMAPE significativamente más bajo que el modelo ARIMA, lo que indica una mejor precisión en las predicciones.\n",
    "\n",
    "En general, al analizar todas las métricas de rendimiento, podemos concluir que el modelo TBATS supera al modelo ARIMA en términos de precisión en el pronóstico de anuncios vistos. El modelo TBATS muestra valores más bajos de MASE, MAE, MAPE, RMSE y SMAPE, lo que indica una mayor precisión y menor error en las predicciones. Por lo tanto, se recomendaría utilizar el modelo TBATS para el pronóstico de anuncios vistos basado en estos resultados."
   ]
  },
  {
   "attachments": {},
   "cell_type": "markdown",
   "metadata": {},
   "source": [
    "# **11. References** <a class=\"anchor\" id=\"11\"></a>\n",
    "\n",
    "[Table of Contents](#0.1)\n",
    "\n",
    "1. Changquan Huang • Alla Petukhina. Springer series (2022). Applied Time Series Analysis and Forecasting with Python. \n",
    "2. Ivan Svetunkov. [Forecasting and Analytics with the Augmented Dynamic Adaptive Model (ADAM)](https://openforecast.org/adam/)\n",
    "3. [James D. Hamilton. Time Series Analysis Princeton University Press, Princeton, New Jersey, 1st Edition, 1994.](https://press.princeton.edu/books/hardcover/9780691042893/time-series-analysis)\n",
    "4. [Nixtla Parameters Arima](https://nixtlaverse.nixtla.io/statsforecast/src/core/models.html#arima).\n",
    "5. [Model Arima](https://nixtlaverse.nixtla.io/statsforecast/docs/models/arima.html)\n",
    "6. [Pandas available frequencies](https://pandas.pydata.org/pandas-docs/stable/user_guide/timeseries.html#offset-aliases).\n",
    "7. [Rob J. Hyndman and George Athanasopoulos (2018). “Forecasting principles and practice, Time series cross-validation”.](https://otexts.com/fpp3/tscv.html).\n",
    "8. [Seasonal periods- Rob J Hyndman](https://robjhyndman.com/hyndsight/seasonal-periods/)."
   ]
  }
 ],
 "metadata": {
  "kernelspec": {
   "display_name": "myenv",
   "language": "python",
   "name": "python3"
  },
  "language_info": {
   "codemirror_mode": {
    "name": "ipython",
    "version": 3
   },
   "file_extension": ".py",
   "mimetype": "text/x-python",
   "name": "python",
   "nbconvert_exporter": "python",
   "pygments_lexer": "ipython3",
   "version": "3.10.15"
  },
  "orig_nbformat": 4
 },
 "nbformat": 4,
 "nbformat_minor": 2
}
