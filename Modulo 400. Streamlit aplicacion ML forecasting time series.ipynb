{
 "cells": [
  {
   "attachments": {},
   "cell_type": "markdown",
   "metadata": {},
   "source": [
    "# Cursos de Series de tiempo con *Machine Learning*\n",
    "## Modulo 400. Streamlit aplicación ML Forecasting Time Series \n",
    "                        Elaborado por: Naren Castellon"
   ]
  },
  {
   "attachments": {},
   "cell_type": "markdown",
   "metadata": {},
   "source": [
    "<center><img src=\"./imagen/streamlit ML Forecasting time series.png\" width=\"900\" height=\"500\"></center>"
   ]
  }
 ],
 "metadata": {
  "language_info": {
   "name": "python"
  },
  "orig_nbformat": 4
 },
 "nbformat": 4,
 "nbformat_minor": 2
}
